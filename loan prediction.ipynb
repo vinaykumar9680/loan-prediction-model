{
 "cells": [
  {
   "cell_type": "markdown",
   "id": "d449ce63-d84a-4e7c-8f48-fff51dc4c620",
   "metadata": {},
   "source": [
    "# <B>  Approach to solving this task"
   ]
  },
  {
   "cell_type": "markdown",
   "id": "8b246e23-3431-4db2-97e7-f129c7e50b4e",
   "metadata": {},
   "source": [
    "##### Task : To create the Classification model for prediction Loan will be approve or not\n",
    "\n",
    "- **Data anlysing and loading:**\n",
    "  - In this step, we load the data and analyze it to understand what information is given in our dataset and how it can help us in building the model further.\n",
    "- **Data Preprocessing:**\n",
    "  - Handle Missing Values: Identify and address missing values by summary and then fill them and sure that there is no missing values in data.\n",
    "  - Outlier Detection and Treatment: Detect and handle outliers in the dataset, which could impact the model's accuracy.\n",
    "  - Dummy variable creation(categorical data): Transform categorical variables  into 0 or 1.\n",
    "  - Normalize Data: Normalize numerical features to bring them to a common scale to avoid any feature dominating the model.\n",
    " \n",
    "- **Train test split**\n",
    "   - diving the data into x and y then divide it into train data and test data for traning and testing of model.train test for 0.2 size and 0.1 size.\n",
    "- **Model Selection and Statistics for accuracy :**\n",
    "    - Choose different regression models that are avialable for the given task like (Logistic regression,Linear discriminant analysis, KNN(K-nearest neighbour),Decision tree , Random forst ,Boosting models ,Bagging)\n",
    "\n",
    "     - Once the model is trained, Compare the accuracy of each model, using metrics like accuracy score and confusion matrix.checking overfitting in data by checking test and train both accuracy.\n",
    "- **Model Comparison:**\n",
    "    - Compare the performance of different models and select the one with the best accuracy and generalization.\n",
    "    - the model having best accuracy score is best to choose for making prediction of loan approval.\n",
    "- **Further Improvement:**\n",
    "    - Consider additional techniques like changing hyperparameters, n estimators,tunning ."
   ]
  },
  {
   "cell_type": "markdown",
   "id": "a7400e67-9ac5-49a7-920e-ddee2714dd57",
   "metadata": {},
   "source": [
    "#### -> It is a classification task so all the models that can be used are :-\n",
    "\n",
    "**1. Logistic regression:**\n",
    "- Logistic regression is a statistical method used in machine learning for binary classification problems, where the goal is to predict one of two possible outcomes (e.g., yes/no, 0/1,). Despite the name \"regression,\" it is actually a classification algorithm.\n",
    "  \n",
    "**2. Linear discriminant Analysis:**\n",
    "- Linear Discriminant Analysis (LDA) is a classification and dimensionality reduction technique used to separate two or more classes in a dataset by finding a linear combination of features that best separates the classes. It is particularly effective when dealing with linearly separable data and is often used as a pre-processing step before classification tasks.\n",
    "  \n",
    "**3.K-Nearest neighbour :**\n",
    "-K-Nearest Neighbors (KNN) is a simple and widely used machine learning algorithm for both classification and regression tasks. It is a non-parametric and instance-based learning algorithm, meaning it does not assume any specific form for the underlying data distribution and makes decisions based on the instances closest to the given input.\n",
    "\n",
    "**4. Simple Decision Trees:**\n",
    "- Decision tree is a tree based model that is udef to predict the classification as well as regression model it is very close to human thiking to approach th task\n",
    "\n",
    "**5. Random forest:** \n",
    " - A Random Forest model is an ensemble learning method used for classification and regression tasks. It operates by constructing multiple decision trees during training and outputting the class that is the mode of the classes (classification) or mean prediction (regression) of the individual trees.\n",
    "\n",
    "**6. Bagging:** \n",
    "- Bagging, short for Bootstrap Aggregating, is an ensemble machine learning technique designed to improve the stability and accuracy of machine learning algorithms. It reduces variance and helps to prevent overfitting. The core idea behind bagging is to train multiple models on different subsets of the data and then combine their outputs to produce a more accurate and robust prediction. \n",
    "\n",
    "**7. Gradient boosting:**\n",
    " - Gradient Boosting is an ensemble learning technique used for both classification and regression tasks. It builds a model sequentially by adding new models (usually decision trees) that correct errors made by the previous models. Each new model is trained to predict the residuals or errors of the previous models, and their predictions are combined to produce a final output.\n",
    "\n",
    "**8. AdaBoost:** \n",
    " - AdaBoost, short for Adaptive Boosting, is an ensemble learning technique used for classification and regression tasks. It combines multiple weak learners, typically simple decision trees (called decision stumps), to create a strong predictive model. AdaBoost assigns weights to each training instance, increasing the weight of misclassified instances and decreasing the weight of correctly classified ones. In subsequent rounds, new models focus more on the harder-to-classify examples. The final prediction is a weighted majority vote of all the models.\n",
    "\n",
    "**9. XG boost:** \n",
    "- XGBoost, short for Extreme Gradient Boosting, is an advanced ensemble learning technique based on gradient boosting. It is designed to be highly efficient, flexible, and portable, often outperforming other algorithms due to its speed and accuracy. XGBoost uses a combination of decision trees and gradient boosting, optimizing model performance by minimizing errors more effectively.\n",
    "\n"
   ]
  },
  {
   "cell_type": "markdown",
   "id": "4532ecf3-e8b9-492c-ab68-00f7eed3490d",
   "metadata": {},
   "source": [
    "# <B> Project "
   ]
  },
  {
   "cell_type": "code",
   "execution_count": 7,
   "id": "888b546e-682d-42ce-bd8a-948716b1c9f1",
   "metadata": {},
   "outputs": [],
   "source": [
    "#importing basic needed libraries numpy , pandas and sns\n",
    "import pandas as pd\n",
    "import numpy as np\n",
    "import seaborn as sns\n",
    "import matplotlib.pyplot as plt\n"
   ]
  },
  {
   "cell_type": "markdown",
   "id": "22c4434e-179b-48bf-8271-7c4d190e4bc1",
   "metadata": {},
   "source": [
    "### <b> 1 Data loading <B/>"
   ]
  },
  {
   "cell_type": "code",
   "execution_count": 9,
   "id": "6470d88b-3de3-4b2e-a94f-49f6940970f1",
   "metadata": {},
   "outputs": [],
   "source": [
    "# Read a CSV file into a DataFrame to load the data\n",
    "\n",
    "df = pd.read_csv(\"C:/Users/VINAY KUMAR PATEL/Downloads/machine learning/load approval project/loan_approval_dataset.csv\",header=0)"
   ]
  },
  {
   "cell_type": "code",
   "execution_count": 10,
   "id": "79f95edf-ea9d-49e5-a0af-7f0dbf3188e0",
   "metadata": {},
   "outputs": [
    {
     "data": {
      "text/html": [
       "<div>\n",
       "<style scoped>\n",
       "    .dataframe tbody tr th:only-of-type {\n",
       "        vertical-align: middle;\n",
       "    }\n",
       "\n",
       "    .dataframe tbody tr th {\n",
       "        vertical-align: top;\n",
       "    }\n",
       "\n",
       "    .dataframe thead th {\n",
       "        text-align: right;\n",
       "    }\n",
       "</style>\n",
       "<table border=\"1\" class=\"dataframe\">\n",
       "  <thead>\n",
       "    <tr style=\"text-align: right;\">\n",
       "      <th></th>\n",
       "      <th>loan_id</th>\n",
       "      <th>no_of_dependents</th>\n",
       "      <th>education</th>\n",
       "      <th>self_employed</th>\n",
       "      <th>income_annum</th>\n",
       "      <th>loan_amount</th>\n",
       "      <th>loan_term</th>\n",
       "      <th>cibil_score</th>\n",
       "      <th>residential_assets_value</th>\n",
       "      <th>commercial_assets_value</th>\n",
       "      <th>luxury_assets_value</th>\n",
       "      <th>bank_asset_value</th>\n",
       "      <th>loan_status</th>\n",
       "    </tr>\n",
       "  </thead>\n",
       "  <tbody>\n",
       "    <tr>\n",
       "      <th>0</th>\n",
       "      <td>1</td>\n",
       "      <td>2</td>\n",
       "      <td>Graduate</td>\n",
       "      <td>No</td>\n",
       "      <td>9600000</td>\n",
       "      <td>29900000</td>\n",
       "      <td>12</td>\n",
       "      <td>778</td>\n",
       "      <td>2400000</td>\n",
       "      <td>17600000</td>\n",
       "      <td>22700000</td>\n",
       "      <td>8000000</td>\n",
       "      <td>Approved</td>\n",
       "    </tr>\n",
       "    <tr>\n",
       "      <th>1</th>\n",
       "      <td>2</td>\n",
       "      <td>0</td>\n",
       "      <td>Not Graduate</td>\n",
       "      <td>Yes</td>\n",
       "      <td>4100000</td>\n",
       "      <td>12200000</td>\n",
       "      <td>8</td>\n",
       "      <td>417</td>\n",
       "      <td>2700000</td>\n",
       "      <td>2200000</td>\n",
       "      <td>8800000</td>\n",
       "      <td>3300000</td>\n",
       "      <td>Rejected</td>\n",
       "    </tr>\n",
       "    <tr>\n",
       "      <th>2</th>\n",
       "      <td>3</td>\n",
       "      <td>3</td>\n",
       "      <td>Graduate</td>\n",
       "      <td>No</td>\n",
       "      <td>9100000</td>\n",
       "      <td>29700000</td>\n",
       "      <td>20</td>\n",
       "      <td>506</td>\n",
       "      <td>7100000</td>\n",
       "      <td>4500000</td>\n",
       "      <td>33300000</td>\n",
       "      <td>12800000</td>\n",
       "      <td>Rejected</td>\n",
       "    </tr>\n",
       "    <tr>\n",
       "      <th>3</th>\n",
       "      <td>4</td>\n",
       "      <td>3</td>\n",
       "      <td>Graduate</td>\n",
       "      <td>No</td>\n",
       "      <td>8200000</td>\n",
       "      <td>30700000</td>\n",
       "      <td>8</td>\n",
       "      <td>467</td>\n",
       "      <td>18200000</td>\n",
       "      <td>3300000</td>\n",
       "      <td>23300000</td>\n",
       "      <td>7900000</td>\n",
       "      <td>Rejected</td>\n",
       "    </tr>\n",
       "    <tr>\n",
       "      <th>4</th>\n",
       "      <td>5</td>\n",
       "      <td>5</td>\n",
       "      <td>Not Graduate</td>\n",
       "      <td>Yes</td>\n",
       "      <td>9800000</td>\n",
       "      <td>24200000</td>\n",
       "      <td>20</td>\n",
       "      <td>382</td>\n",
       "      <td>12400000</td>\n",
       "      <td>8200000</td>\n",
       "      <td>29400000</td>\n",
       "      <td>5000000</td>\n",
       "      <td>Rejected</td>\n",
       "    </tr>\n",
       "  </tbody>\n",
       "</table>\n",
       "</div>"
      ],
      "text/plain": [
       "   loan_id   no_of_dependents      education self_employed  income_annum  \\\n",
       "0        1                  2       Graduate            No       9600000   \n",
       "1        2                  0   Not Graduate           Yes       4100000   \n",
       "2        3                  3       Graduate            No       9100000   \n",
       "3        4                  3       Graduate            No       8200000   \n",
       "4        5                  5   Not Graduate           Yes       9800000   \n",
       "\n",
       "   loan_amount  loan_term  cibil_score  residential_assets_value  \\\n",
       "0     29900000         12          778                   2400000   \n",
       "1     12200000          8          417                   2700000   \n",
       "2     29700000         20          506                   7100000   \n",
       "3     30700000          8          467                  18200000   \n",
       "4     24200000         20          382                  12400000   \n",
       "\n",
       "   commercial_assets_value  luxury_assets_value  bank_asset_value loan_status  \n",
       "0                 17600000             22700000           8000000    Approved  \n",
       "1                  2200000              8800000           3300000    Rejected  \n",
       "2                  4500000             33300000          12800000    Rejected  \n",
       "3                  3300000             23300000           7900000    Rejected  \n",
       "4                  8200000             29400000           5000000    Rejected  "
      ]
     },
     "execution_count": 10,
     "metadata": {},
     "output_type": "execute_result"
    }
   ],
   "source": [
    "df.head()"
   ]
  },
  {
   "cell_type": "markdown",
   "id": "ffa83498-85bc-42db-a8cd-854b3888c496",
   "metadata": {},
   "source": [
    "### <b> 2. Data Preprocessing <B/>"
   ]
  },
  {
   "cell_type": "markdown",
   "id": "73dc702f-04ff-4933-a81b-a25ca6ec5339",
   "metadata": {},
   "source": [
    "- <B> checking categorical columns </B>\n",
    "\n",
    "<span style=\"color: orange;\"> we are doing this so that we can check all the categorical column has atleast two cateogery"
   ]
  },
  {
   "cell_type": "code",
   "execution_count": 13,
   "id": "15c046ad-71d3-47b7-887a-7e67ad9c013a",
   "metadata": {},
   "outputs": [
    {
     "data": {
      "text/plain": [
       "<Axes: xlabel='education', ylabel='count'>"
      ]
     },
     "execution_count": 13,
     "metadata": {},
     "output_type": "execute_result"
    },
    {
     "data": {
      "image/png": "[encoded data removed]",
      "text/plain": [
       "<Figure size 640x480 with 1 Axes>"
      ]
     },
     "metadata": {},
     "output_type": "display_data"
    }
   ],
   "source": [
    "#ploting bar chart \n",
    "sns.countplot(x=\"education\",data=df)"
   ]
  },
  {
   "cell_type": "code",
   "execution_count": 14,
   "id": "4d00c2e1-3c55-44d8-9ce6-022c728b13af",
   "metadata": {},
   "outputs": [
    {
     "data": {
      "text/plain": [
       "<Axes: xlabel='self_employed', ylabel='count'>"
      ]
     },
     "execution_count": 14,
     "metadata": {},
     "output_type": "execute_result"
    },
    {
     "data": {
      "image/png": "[encoded data removed]",
      "text/plain": [
       "<Figure size 640x480 with 1 Axes>"
      ]
     },
     "metadata": {},
     "output_type": "display_data"
    }
   ],
   "source": [
    "sns.countplot(x='self_employed',data=df)"
   ]
  },
  {
   "cell_type": "code",
   "execution_count": 15,
   "id": "07d57b56-4ea7-4762-a67d-b00ac1b78b36",
   "metadata": {},
   "outputs": [
    {
     "data": {
      "text/plain": [
       "<Axes: xlabel='loan_status', ylabel='count'>"
      ]
     },
     "execution_count": 15,
     "metadata": {},
     "output_type": "execute_result"
    },
    {
     "data": {
      "image/png": "[encoded data removed]",
      "text/plain": [
       "<Figure size 640x480 with 1 Axes>"
      ]
     },
     "metadata": {},
     "output_type": "display_data"
    }
   ],
   "source": [
    "sns.countplot(x='loan_status',data=df)"
   ]
  },
  {
   "cell_type": "markdown",
   "id": "73943d04-99be-492e-8ac7-35da9c151bbf",
   "metadata": {},
   "source": [
    "- <B> Checking for null value"
   ]
  },
  {
   "cell_type": "code",
   "execution_count": 17,
   "id": "a301758a-3a7d-4716-9841-8c15fd2dee0d",
   "metadata": {},
   "outputs": [
    {
     "name": "stdout",
     "output_type": "stream",
     "text": [
      "<class 'pandas.core.frame.DataFrame'>\n",
      "RangeIndex: 4269 entries, 0 to 4268\n",
      "Data columns (total 13 columns):\n",
      " #   Column                    Non-Null Count  Dtype \n",
      "---  ------                    --------------  ----- \n",
      " 0   loan_id                   4269 non-null   int64 \n",
      " 1    no_of_dependents         4269 non-null   int64 \n",
      " 2   education                 4269 non-null   object\n",
      " 3   self_employed             4269 non-null   object\n",
      " 4   income_annum              4269 non-null   int64 \n",
      " 5   loan_amount               4269 non-null   int64 \n",
      " 6   loan_term                 4269 non-null   int64 \n",
      " 7   cibil_score               4269 non-null   int64 \n",
      " 8   residential_assets_value  4269 non-null   int64 \n",
      " 9   commercial_assets_value   4269 non-null   int64 \n",
      " 10  luxury_assets_value       4269 non-null   int64 \n",
      " 11  bank_asset_value          4269 non-null   int64 \n",
      " 12  loan_status               4269 non-null   object\n",
      "dtypes: int64(10), object(3)\n",
      "memory usage: 433.7+ KB\n"
     ]
    }
   ],
   "source": [
    "df.info()"
   ]
  },
  {
   "cell_type": "markdown",
   "id": "9680acc5-2ff0-454e-a5da-c9e6e08789e0",
   "metadata": {},
   "source": [
    "<span style=\"color: orange;\">- Null value treatment is not needed because we can see that in info there is no null value. </span>\n"
   ]
  },
  {
   "cell_type": "markdown",
   "id": "22c3fd21-82f6-4d0e-9ac4-d49ff007939f",
   "metadata": {},
   "source": [
    "- <B> Dummy variable creation </B>\n",
    "\n",
    "<span style=\"color: orange;\">  we use dummy value creation for converting categorical column to numerical form"
   ]
  },
  {
   "cell_type": "code",
   "execution_count": 20,
   "id": "c4619ce8-bcd4-46db-9f2d-9126bbd482af",
   "metadata": {},
   "outputs": [
    {
     "data": {
      "text/html": [
       "<div>\n",
       "<style scoped>\n",
       "    .dataframe tbody tr th:only-of-type {\n",
       "        vertical-align: middle;\n",
       "    }\n",
       "\n",
       "    .dataframe tbody tr th {\n",
       "        vertical-align: top;\n",
       "    }\n",
       "\n",
       "    .dataframe thead th {\n",
       "        text-align: right;\n",
       "    }\n",
       "</style>\n",
       "<table border=\"1\" class=\"dataframe\">\n",
       "  <thead>\n",
       "    <tr style=\"text-align: right;\">\n",
       "      <th></th>\n",
       "      <th>loan_id</th>\n",
       "      <th>no_of_dependents</th>\n",
       "      <th>income_annum</th>\n",
       "      <th>loan_amount</th>\n",
       "      <th>loan_term</th>\n",
       "      <th>cibil_score</th>\n",
       "      <th>residential_assets_value</th>\n",
       "      <th>commercial_assets_value</th>\n",
       "      <th>luxury_assets_value</th>\n",
       "      <th>bank_asset_value</th>\n",
       "      <th>education_ Not Graduate</th>\n",
       "      <th>self_employed_ Yes</th>\n",
       "      <th>loan_status_ Rejected</th>\n",
       "    </tr>\n",
       "  </thead>\n",
       "  <tbody>\n",
       "    <tr>\n",
       "      <th>0</th>\n",
       "      <td>1</td>\n",
       "      <td>2</td>\n",
       "      <td>9600000</td>\n",
       "      <td>29900000</td>\n",
       "      <td>12</td>\n",
       "      <td>778</td>\n",
       "      <td>2400000</td>\n",
       "      <td>17600000</td>\n",
       "      <td>22700000</td>\n",
       "      <td>8000000</td>\n",
       "      <td>0</td>\n",
       "      <td>0</td>\n",
       "      <td>0</td>\n",
       "    </tr>\n",
       "    <tr>\n",
       "      <th>1</th>\n",
       "      <td>2</td>\n",
       "      <td>0</td>\n",
       "      <td>4100000</td>\n",
       "      <td>12200000</td>\n",
       "      <td>8</td>\n",
       "      <td>417</td>\n",
       "      <td>2700000</td>\n",
       "      <td>2200000</td>\n",
       "      <td>8800000</td>\n",
       "      <td>3300000</td>\n",
       "      <td>1</td>\n",
       "      <td>1</td>\n",
       "      <td>1</td>\n",
       "    </tr>\n",
       "    <tr>\n",
       "      <th>2</th>\n",
       "      <td>3</td>\n",
       "      <td>3</td>\n",
       "      <td>9100000</td>\n",
       "      <td>29700000</td>\n",
       "      <td>20</td>\n",
       "      <td>506</td>\n",
       "      <td>7100000</td>\n",
       "      <td>4500000</td>\n",
       "      <td>33300000</td>\n",
       "      <td>12800000</td>\n",
       "      <td>0</td>\n",
       "      <td>0</td>\n",
       "      <td>1</td>\n",
       "    </tr>\n",
       "    <tr>\n",
       "      <th>3</th>\n",
       "      <td>4</td>\n",
       "      <td>3</td>\n",
       "      <td>8200000</td>\n",
       "      <td>30700000</td>\n",
       "      <td>8</td>\n",
       "      <td>467</td>\n",
       "      <td>18200000</td>\n",
       "      <td>3300000</td>\n",
       "      <td>23300000</td>\n",
       "      <td>7900000</td>\n",
       "      <td>0</td>\n",
       "      <td>0</td>\n",
       "      <td>1</td>\n",
       "    </tr>\n",
       "    <tr>\n",
       "      <th>4</th>\n",
       "      <td>5</td>\n",
       "      <td>5</td>\n",
       "      <td>9800000</td>\n",
       "      <td>24200000</td>\n",
       "      <td>20</td>\n",
       "      <td>382</td>\n",
       "      <td>12400000</td>\n",
       "      <td>8200000</td>\n",
       "      <td>29400000</td>\n",
       "      <td>5000000</td>\n",
       "      <td>1</td>\n",
       "      <td>1</td>\n",
       "      <td>1</td>\n",
       "    </tr>\n",
       "  </tbody>\n",
       "</table>\n",
       "</div>"
      ],
      "text/plain": [
       "   loan_id   no_of_dependents  income_annum  loan_amount  loan_term  \\\n",
       "0        1                  2       9600000     29900000         12   \n",
       "1        2                  0       4100000     12200000          8   \n",
       "2        3                  3       9100000     29700000         20   \n",
       "3        4                  3       8200000     30700000          8   \n",
       "4        5                  5       9800000     24200000         20   \n",
       "\n",
       "   cibil_score  residential_assets_value  commercial_assets_value  \\\n",
       "0          778                   2400000                 17600000   \n",
       "1          417                   2700000                  2200000   \n",
       "2          506                   7100000                  4500000   \n",
       "3          467                  18200000                  3300000   \n",
       "4          382                  12400000                  8200000   \n",
       "\n",
       "   luxury_assets_value  bank_asset_value  education_ Not Graduate  \\\n",
       "0             22700000           8000000                        0   \n",
       "1              8800000           3300000                        1   \n",
       "2             33300000          12800000                        0   \n",
       "3             23300000           7900000                        0   \n",
       "4             29400000           5000000                        1   \n",
       "\n",
       "   self_employed_ Yes  loan_status_ Rejected  \n",
       "0                   0                      0  \n",
       "1                   1                      1  \n",
       "2                   0                      1  \n",
       "3                   0                      1  \n",
       "4                   1                      1  "
      ]
     },
     "execution_count": 20,
     "metadata": {},
     "output_type": "execute_result"
    }
   ],
   "source": [
    "# Exclude the Date column when creating dummies\n",
    "df = pd.get_dummies(df, drop_first=True).astype(int)\n",
    "\n",
    "# Viewing data\n",
    "df.head()\n"
   ]
  },
  {
   "cell_type": "code",
   "execution_count": 21,
   "id": "2e9a5af5-6c95-4771-aae8-8778f8476eb6",
   "metadata": {},
   "outputs": [
    {
     "data": {
      "text/plain": [
       "Index(['loan_id', ' no_of_dependents', 'income_annum', 'loan_amount',\n",
       "       'loan_term', 'cibil_score', 'residential_assets_value',\n",
       "       'commercial_assets_value', 'luxury_assets_value', 'bank_asset_value',\n",
       "       'education_ Not Graduate', 'self_employed_ Yes',\n",
       "       'loan_status_ Rejected'],\n",
       "      dtype='object')"
      ]
     },
     "execution_count": 21,
     "metadata": {},
     "output_type": "execute_result"
    }
   ],
   "source": [
    "df.columns"
   ]
  },
  {
   "cell_type": "code",
   "execution_count": 22,
   "id": "435f0ea0-f41c-463d-856a-670d4062d79f",
   "metadata": {},
   "outputs": [],
   "source": [
    "\n",
    "df.rename(columns={\n",
    "    ' no_of_dependents': 'no_of_dependents',\n",
    "    'education_ Not Graduate':'education_Not_Graduate','self_employed_ Yes':'self_employed_Yes',\n",
    "    'loan_status_ Rejected':'loan_status_Rejected'\n",
    "}, inplace=True)"
   ]
  },
  {
   "cell_type": "markdown",
   "id": "100b4c5f-8f67-4060-9cc8-d2c2d274a388",
   "metadata": {},
   "source": [
    "df.head()"
   ]
  },
  {
   "cell_type": "markdown",
   "id": "6fbb43ab-ee61-425d-bfba-5f44abd341d7",
   "metadata": {},
   "source": [
    "- <B> Correlation Analysis </b>\n",
    "\n",
    "<span style=\"color: orange;\"> It is needed to check the correlation value between two columns by  correlation matrics. So that we can avoid multicolinierity in our data by removing very highly corelated colums"
   ]
  },
  {
   "cell_type": "code",
   "execution_count": 25,
   "id": "f7d9c3e9-d979-4ca2-824b-d4b3683b1d47",
   "metadata": {},
   "outputs": [
    {
     "data": {
      "text/html": [
       "<div>\n",
       "<style scoped>\n",
       "    .dataframe tbody tr th:only-of-type {\n",
       "        vertical-align: middle;\n",
       "    }\n",
       "\n",
       "    .dataframe tbody tr th {\n",
       "        vertical-align: top;\n",
       "    }\n",
       "\n",
       "    .dataframe thead th {\n",
       "        text-align: right;\n",
       "    }\n",
       "</style>\n",
       "<table border=\"1\" class=\"dataframe\">\n",
       "  <thead>\n",
       "    <tr style=\"text-align: right;\">\n",
       "      <th></th>\n",
       "      <th>loan_id</th>\n",
       "      <th>no_of_dependents</th>\n",
       "      <th>income_annum</th>\n",
       "      <th>loan_amount</th>\n",
       "      <th>loan_term</th>\n",
       "      <th>cibil_score</th>\n",
       "      <th>residential_assets_value</th>\n",
       "      <th>commercial_assets_value</th>\n",
       "      <th>luxury_assets_value</th>\n",
       "      <th>bank_asset_value</th>\n",
       "      <th>education_Not_Graduate</th>\n",
       "      <th>self_employed_Yes</th>\n",
       "      <th>loan_status_Rejected</th>\n",
       "    </tr>\n",
       "  </thead>\n",
       "  <tbody>\n",
       "    <tr>\n",
       "      <th>loan_id</th>\n",
       "      <td>1.000000</td>\n",
       "      <td>0.005326</td>\n",
       "      <td>0.012592</td>\n",
       "      <td>0.008170</td>\n",
       "      <td>0.009809</td>\n",
       "      <td>0.016323</td>\n",
       "      <td>0.020936</td>\n",
       "      <td>0.018595</td>\n",
       "      <td>-0.000862</td>\n",
       "      <td>0.010765</td>\n",
       "      <td>-0.015536</td>\n",
       "      <td>0.001745</td>\n",
       "      <td>-0.017685</td>\n",
       "    </tr>\n",
       "    <tr>\n",
       "      <th>no_of_dependents</th>\n",
       "      <td>0.005326</td>\n",
       "      <td>1.000000</td>\n",
       "      <td>0.007266</td>\n",
       "      <td>-0.003366</td>\n",
       "      <td>-0.020111</td>\n",
       "      <td>-0.009998</td>\n",
       "      <td>0.007376</td>\n",
       "      <td>-0.001531</td>\n",
       "      <td>0.002817</td>\n",
       "      <td>0.011163</td>\n",
       "      <td>-0.002697</td>\n",
       "      <td>0.000765</td>\n",
       "      <td>0.018114</td>\n",
       "    </tr>\n",
       "    <tr>\n",
       "      <th>income_annum</th>\n",
       "      <td>0.012592</td>\n",
       "      <td>0.007266</td>\n",
       "      <td>1.000000</td>\n",
       "      <td>0.927470</td>\n",
       "      <td>0.011488</td>\n",
       "      <td>-0.023034</td>\n",
       "      <td>0.636841</td>\n",
       "      <td>0.640328</td>\n",
       "      <td>0.929145</td>\n",
       "      <td>0.851093</td>\n",
       "      <td>-0.011625</td>\n",
       "      <td>0.002368</td>\n",
       "      <td>0.015189</td>\n",
       "    </tr>\n",
       "    <tr>\n",
       "      <th>loan_amount</th>\n",
       "      <td>0.008170</td>\n",
       "      <td>-0.003366</td>\n",
       "      <td>0.927470</td>\n",
       "      <td>1.000000</td>\n",
       "      <td>0.008437</td>\n",
       "      <td>-0.017035</td>\n",
       "      <td>0.594596</td>\n",
       "      <td>0.603188</td>\n",
       "      <td>0.860914</td>\n",
       "      <td>0.788122</td>\n",
       "      <td>-0.010631</td>\n",
       "      <td>0.001450</td>\n",
       "      <td>-0.016150</td>\n",
       "    </tr>\n",
       "    <tr>\n",
       "      <th>loan_term</th>\n",
       "      <td>0.009809</td>\n",
       "      <td>-0.020111</td>\n",
       "      <td>0.011488</td>\n",
       "      <td>0.008437</td>\n",
       "      <td>1.000000</td>\n",
       "      <td>0.007810</td>\n",
       "      <td>0.008016</td>\n",
       "      <td>-0.005478</td>\n",
       "      <td>0.012490</td>\n",
       "      <td>0.017177</td>\n",
       "      <td>0.008417</td>\n",
       "      <td>0.004107</td>\n",
       "      <td>0.113036</td>\n",
       "    </tr>\n",
       "    <tr>\n",
       "      <th>cibil_score</th>\n",
       "      <td>0.016323</td>\n",
       "      <td>-0.009998</td>\n",
       "      <td>-0.023034</td>\n",
       "      <td>-0.017035</td>\n",
       "      <td>0.007810</td>\n",
       "      <td>1.000000</td>\n",
       "      <td>-0.019947</td>\n",
       "      <td>-0.003769</td>\n",
       "      <td>-0.028618</td>\n",
       "      <td>-0.015478</td>\n",
       "      <td>0.004649</td>\n",
       "      <td>-0.004866</td>\n",
       "      <td>-0.770518</td>\n",
       "    </tr>\n",
       "    <tr>\n",
       "      <th>residential_assets_value</th>\n",
       "      <td>0.020936</td>\n",
       "      <td>0.007376</td>\n",
       "      <td>0.636841</td>\n",
       "      <td>0.594596</td>\n",
       "      <td>0.008016</td>\n",
       "      <td>-0.019947</td>\n",
       "      <td>1.000000</td>\n",
       "      <td>0.414786</td>\n",
       "      <td>0.590932</td>\n",
       "      <td>0.527418</td>\n",
       "      <td>-0.010930</td>\n",
       "      <td>0.006144</td>\n",
       "      <td>0.014367</td>\n",
       "    </tr>\n",
       "    <tr>\n",
       "      <th>commercial_assets_value</th>\n",
       "      <td>0.018595</td>\n",
       "      <td>-0.001531</td>\n",
       "      <td>0.640328</td>\n",
       "      <td>0.603188</td>\n",
       "      <td>-0.005478</td>\n",
       "      <td>-0.003769</td>\n",
       "      <td>0.414786</td>\n",
       "      <td>1.000000</td>\n",
       "      <td>0.591128</td>\n",
       "      <td>0.548576</td>\n",
       "      <td>0.006763</td>\n",
       "      <td>-0.017998</td>\n",
       "      <td>-0.008246</td>\n",
       "    </tr>\n",
       "    <tr>\n",
       "      <th>luxury_assets_value</th>\n",
       "      <td>-0.000862</td>\n",
       "      <td>0.002817</td>\n",
       "      <td>0.929145</td>\n",
       "      <td>0.860914</td>\n",
       "      <td>0.012490</td>\n",
       "      <td>-0.028618</td>\n",
       "      <td>0.590932</td>\n",
       "      <td>0.591128</td>\n",
       "      <td>1.000000</td>\n",
       "      <td>0.788517</td>\n",
       "      <td>-0.012471</td>\n",
       "      <td>0.004413</td>\n",
       "      <td>0.015465</td>\n",
       "    </tr>\n",
       "    <tr>\n",
       "      <th>bank_asset_value</th>\n",
       "      <td>0.010765</td>\n",
       "      <td>0.011163</td>\n",
       "      <td>0.851093</td>\n",
       "      <td>0.788122</td>\n",
       "      <td>0.017177</td>\n",
       "      <td>-0.015478</td>\n",
       "      <td>0.527418</td>\n",
       "      <td>0.548576</td>\n",
       "      <td>0.788517</td>\n",
       "      <td>1.000000</td>\n",
       "      <td>-0.009424</td>\n",
       "      <td>-0.000215</td>\n",
       "      <td>0.006778</td>\n",
       "    </tr>\n",
       "    <tr>\n",
       "      <th>education_Not_Graduate</th>\n",
       "      <td>-0.015536</td>\n",
       "      <td>-0.002697</td>\n",
       "      <td>-0.011625</td>\n",
       "      <td>-0.010631</td>\n",
       "      <td>0.008417</td>\n",
       "      <td>0.004649</td>\n",
       "      <td>-0.010930</td>\n",
       "      <td>0.006763</td>\n",
       "      <td>-0.012471</td>\n",
       "      <td>-0.009424</td>\n",
       "      <td>1.000000</td>\n",
       "      <td>0.023224</td>\n",
       "      <td>0.004918</td>\n",
       "    </tr>\n",
       "    <tr>\n",
       "      <th>self_employed_Yes</th>\n",
       "      <td>0.001745</td>\n",
       "      <td>0.000765</td>\n",
       "      <td>0.002368</td>\n",
       "      <td>0.001450</td>\n",
       "      <td>0.004107</td>\n",
       "      <td>-0.004866</td>\n",
       "      <td>0.006144</td>\n",
       "      <td>-0.017998</td>\n",
       "      <td>0.004413</td>\n",
       "      <td>-0.000215</td>\n",
       "      <td>0.023224</td>\n",
       "      <td>1.000000</td>\n",
       "      <td>-0.000345</td>\n",
       "    </tr>\n",
       "    <tr>\n",
       "      <th>loan_status_Rejected</th>\n",
       "      <td>-0.017685</td>\n",
       "      <td>0.018114</td>\n",
       "      <td>0.015189</td>\n",
       "      <td>-0.016150</td>\n",
       "      <td>0.113036</td>\n",
       "      <td>-0.770518</td>\n",
       "      <td>0.014367</td>\n",
       "      <td>-0.008246</td>\n",
       "      <td>0.015465</td>\n",
       "      <td>0.006778</td>\n",
       "      <td>0.004918</td>\n",
       "      <td>-0.000345</td>\n",
       "      <td>1.000000</td>\n",
       "    </tr>\n",
       "  </tbody>\n",
       "</table>\n",
       "</div>"
      ],
      "text/plain": [
       "                           loan_id  no_of_dependents  income_annum  \\\n",
       "loan_id                   1.000000          0.005326      0.012592   \n",
       "no_of_dependents          0.005326          1.000000      0.007266   \n",
       "income_annum              0.012592          0.007266      1.000000   \n",
       "loan_amount               0.008170         -0.003366      0.927470   \n",
       "loan_term                 0.009809         -0.020111      0.011488   \n",
       "cibil_score               0.016323         -0.009998     -0.023034   \n",
       "residential_assets_value  0.020936          0.007376      0.636841   \n",
       "commercial_assets_value   0.018595         -0.001531      0.640328   \n",
       "luxury_assets_value      -0.000862          0.002817      0.929145   \n",
       "bank_asset_value          0.010765          0.011163      0.851093   \n",
       "education_Not_Graduate   -0.015536         -0.002697     -0.011625   \n",
       "self_employed_Yes         0.001745          0.000765      0.002368   \n",
       "loan_status_Rejected     -0.017685          0.018114      0.015189   \n",
       "\n",
       "                          loan_amount  loan_term  cibil_score  \\\n",
       "loan_id                      0.008170   0.009809     0.016323   \n",
       "no_of_dependents            -0.003366  -0.020111    -0.009998   \n",
       "income_annum                 0.927470   0.011488    -0.023034   \n",
       "loan_amount                  1.000000   0.008437    -0.017035   \n",
       "loan_term                    0.008437   1.000000     0.007810   \n",
       "cibil_score                 -0.017035   0.007810     1.000000   \n",
       "residential_assets_value     0.594596   0.008016    -0.019947   \n",
       "commercial_assets_value      0.603188  -0.005478    -0.003769   \n",
       "luxury_assets_value          0.860914   0.012490    -0.028618   \n",
       "bank_asset_value             0.788122   0.017177    -0.015478   \n",
       "education_Not_Graduate      -0.010631   0.008417     0.004649   \n",
       "self_employed_Yes            0.001450   0.004107    -0.004866   \n",
       "loan_status_Rejected        -0.016150   0.113036    -0.770518   \n",
       "\n",
       "                          residential_assets_value  commercial_assets_value  \\\n",
       "loan_id                                   0.020936                 0.018595   \n",
       "no_of_dependents                          0.007376                -0.001531   \n",
       "income_annum                              0.636841                 0.640328   \n",
       "loan_amount                               0.594596                 0.603188   \n",
       "loan_term                                 0.008016                -0.005478   \n",
       "cibil_score                              -0.019947                -0.003769   \n",
       "residential_assets_value                  1.000000                 0.414786   \n",
       "commercial_assets_value                   0.414786                 1.000000   \n",
       "luxury_assets_value                       0.590932                 0.591128   \n",
       "bank_asset_value                          0.527418                 0.548576   \n",
       "education_Not_Graduate                   -0.010930                 0.006763   \n",
       "self_employed_Yes                         0.006144                -0.017998   \n",
       "loan_status_Rejected                      0.014367                -0.008246   \n",
       "\n",
       "                          luxury_assets_value  bank_asset_value  \\\n",
       "loan_id                             -0.000862          0.010765   \n",
       "no_of_dependents                     0.002817          0.011163   \n",
       "income_annum                         0.929145          0.851093   \n",
       "loan_amount                          0.860914          0.788122   \n",
       "loan_term                            0.012490          0.017177   \n",
       "cibil_score                         -0.028618         -0.015478   \n",
       "residential_assets_value             0.590932          0.527418   \n",
       "commercial_assets_value              0.591128          0.548576   \n",
       "luxury_assets_value                  1.000000          0.788517   \n",
       "bank_asset_value                     0.788517          1.000000   \n",
       "education_Not_Graduate              -0.012471         -0.009424   \n",
       "self_employed_Yes                    0.004413         -0.000215   \n",
       "loan_status_Rejected                 0.015465          0.006778   \n",
       "\n",
       "                          education_Not_Graduate  self_employed_Yes  \\\n",
       "loan_id                                -0.015536           0.001745   \n",
       "no_of_dependents                       -0.002697           0.000765   \n",
       "income_annum                           -0.011625           0.002368   \n",
       "loan_amount                            -0.010631           0.001450   \n",
       "loan_term                               0.008417           0.004107   \n",
       "cibil_score                             0.004649          -0.004866   \n",
       "residential_assets_value               -0.010930           0.006144   \n",
       "commercial_assets_value                 0.006763          -0.017998   \n",
       "luxury_assets_value                    -0.012471           0.004413   \n",
       "bank_asset_value                       -0.009424          -0.000215   \n",
       "education_Not_Graduate                  1.000000           0.023224   \n",
       "self_employed_Yes                       0.023224           1.000000   \n",
       "loan_status_Rejected                    0.004918          -0.000345   \n",
       "\n",
       "                          loan_status_Rejected  \n",
       "loan_id                              -0.017685  \n",
       "no_of_dependents                      0.018114  \n",
       "income_annum                          0.015189  \n",
       "loan_amount                          -0.016150  \n",
       "loan_term                             0.113036  \n",
       "cibil_score                          -0.770518  \n",
       "residential_assets_value              0.014367  \n",
       "commercial_assets_value              -0.008246  \n",
       "luxury_assets_value                   0.015465  \n",
       "bank_asset_value                      0.006778  \n",
       "education_Not_Graduate                0.004918  \n",
       "self_employed_Yes                    -0.000345  \n",
       "loan_status_Rejected                  1.000000  "
      ]
     },
     "execution_count": 25,
     "metadata": {},
     "output_type": "execute_result"
    }
   ],
   "source": [
    "corr = df.corr()\n",
    "corr"
   ]
  },
  {
   "cell_type": "markdown",
   "id": "91ae5962-0cfc-4f5b-810c-d0d4e3e986a5",
   "metadata": {},
   "source": [
    "<span style=\"color: orange;\">  Summary:-\n",
    "\n",
    "<span style=\"color: orange;\">By seeing the correlation matrix we can say that there some columns which are highly correlated because they are  having value greater than 0.80 and less than -0.80 . so, no need to remove some column\n",
    "\n",
    "<span style=\"color: orange;\"> - loan_amount is highly correlated to income_annum(0.92) and it has low correlated to our predictor variable loan_status_ Rejected\n",
    "\n",
    "<span style=\"color: orange;\"> - luxury_assets_value is highly correlated to income_annum(0.92) and loan_amount(0.86) and it has low correlated to our loan_status_ Rejected\n",
    "\n",
    "<span style=\"color: orange;\"> - bank_asset_value is highly correlated with income_annum (0.85) and it has low correlated to our loan_status_ Rejected\n",
    "\n",
    "<span style=\"color: green;\"> Note : its financial data and we don't have many coloumns so i am not deleting any of them . As we know i income is high so luxury items can buy . loan_amount and income_annum is important columns for us\n",
    "\n"
   ]
  },
  {
   "cell_type": "code",
   "execution_count": 27,
   "id": "bd66a18a-5a7a-4757-8aa3-4080bf3e7727",
   "metadata": {},
   "outputs": [
    {
     "data": {
      "text/plain": [
       "<Axes: >"
      ]
     },
     "execution_count": 27,
     "metadata": {},
     "output_type": "execute_result"
    },
    {
     "data": {
      "image/png": "[encoded data removed]",
      "text/plain": [
       "<Figure size 640x480 with 2 Axes>"
      ]
     },
     "metadata": {},
     "output_type": "display_data"
    }
   ],
   "source": [
    "# Visual representation of corr\n",
    "# Heatmap\n",
    "sns.heatmap(data=corr)"
   ]
  },
  {
   "cell_type": "markdown",
   "id": "db918866-4648-485e-a0fb-b6c7380d3076",
   "metadata": {},
   "source": [
    "- <B> Outliers treatment </B>"
   ]
  },
  {
   "cell_type": "code",
   "execution_count": 29,
   "id": "48fbce47-98c3-4cdc-9fa0-8a647425d9d2",
   "metadata": {},
   "outputs": [
    {
     "data": {
      "text/html": [
       "<div>\n",
       "<style scoped>\n",
       "    .dataframe tbody tr th:only-of-type {\n",
       "        vertical-align: middle;\n",
       "    }\n",
       "\n",
       "    .dataframe tbody tr th {\n",
       "        vertical-align: top;\n",
       "    }\n",
       "\n",
       "    .dataframe thead th {\n",
       "        text-align: right;\n",
       "    }\n",
       "</style>\n",
       "<table border=\"1\" class=\"dataframe\">\n",
       "  <thead>\n",
       "    <tr style=\"text-align: right;\">\n",
       "      <th></th>\n",
       "      <th>loan_id</th>\n",
       "      <th>no_of_dependents</th>\n",
       "      <th>income_annum</th>\n",
       "      <th>loan_amount</th>\n",
       "      <th>loan_term</th>\n",
       "      <th>cibil_score</th>\n",
       "      <th>residential_assets_value</th>\n",
       "      <th>commercial_assets_value</th>\n",
       "      <th>luxury_assets_value</th>\n",
       "      <th>bank_asset_value</th>\n",
       "      <th>education_Not_Graduate</th>\n",
       "      <th>self_employed_Yes</th>\n",
       "      <th>loan_status_Rejected</th>\n",
       "    </tr>\n",
       "  </thead>\n",
       "  <tbody>\n",
       "    <tr>\n",
       "      <th>count</th>\n",
       "      <td>4269.000000</td>\n",
       "      <td>4269.000000</td>\n",
       "      <td>4.269000e+03</td>\n",
       "      <td>4.269000e+03</td>\n",
       "      <td>4269.000000</td>\n",
       "      <td>4269.000000</td>\n",
       "      <td>4.269000e+03</td>\n",
       "      <td>4.269000e+03</td>\n",
       "      <td>4.269000e+03</td>\n",
       "      <td>4.269000e+03</td>\n",
       "      <td>4269.000000</td>\n",
       "      <td>4269.000000</td>\n",
       "      <td>4269.000000</td>\n",
       "    </tr>\n",
       "    <tr>\n",
       "      <th>mean</th>\n",
       "      <td>2135.000000</td>\n",
       "      <td>2.498712</td>\n",
       "      <td>5.059124e+06</td>\n",
       "      <td>1.513345e+07</td>\n",
       "      <td>10.900445</td>\n",
       "      <td>599.936051</td>\n",
       "      <td>7.472617e+06</td>\n",
       "      <td>4.973155e+06</td>\n",
       "      <td>1.512631e+07</td>\n",
       "      <td>4.976692e+06</td>\n",
       "      <td>0.497775</td>\n",
       "      <td>0.503631</td>\n",
       "      <td>0.377840</td>\n",
       "    </tr>\n",
       "    <tr>\n",
       "      <th>std</th>\n",
       "      <td>1232.498479</td>\n",
       "      <td>1.695910</td>\n",
       "      <td>2.806840e+06</td>\n",
       "      <td>9.043363e+06</td>\n",
       "      <td>5.709187</td>\n",
       "      <td>172.430401</td>\n",
       "      <td>6.503637e+06</td>\n",
       "      <td>4.388966e+06</td>\n",
       "      <td>9.103754e+06</td>\n",
       "      <td>3.250185e+06</td>\n",
       "      <td>0.500054</td>\n",
       "      <td>0.500045</td>\n",
       "      <td>0.484904</td>\n",
       "    </tr>\n",
       "    <tr>\n",
       "      <th>min</th>\n",
       "      <td>1.000000</td>\n",
       "      <td>0.000000</td>\n",
       "      <td>2.000000e+05</td>\n",
       "      <td>3.000000e+05</td>\n",
       "      <td>2.000000</td>\n",
       "      <td>300.000000</td>\n",
       "      <td>-1.000000e+05</td>\n",
       "      <td>0.000000e+00</td>\n",
       "      <td>3.000000e+05</td>\n",
       "      <td>0.000000e+00</td>\n",
       "      <td>0.000000</td>\n",
       "      <td>0.000000</td>\n",
       "      <td>0.000000</td>\n",
       "    </tr>\n",
       "    <tr>\n",
       "      <th>25%</th>\n",
       "      <td>1068.000000</td>\n",
       "      <td>1.000000</td>\n",
       "      <td>2.700000e+06</td>\n",
       "      <td>7.700000e+06</td>\n",
       "      <td>6.000000</td>\n",
       "      <td>453.000000</td>\n",
       "      <td>2.200000e+06</td>\n",
       "      <td>1.300000e+06</td>\n",
       "      <td>7.500000e+06</td>\n",
       "      <td>2.300000e+06</td>\n",
       "      <td>0.000000</td>\n",
       "      <td>0.000000</td>\n",
       "      <td>0.000000</td>\n",
       "    </tr>\n",
       "    <tr>\n",
       "      <th>50%</th>\n",
       "      <td>2135.000000</td>\n",
       "      <td>3.000000</td>\n",
       "      <td>5.100000e+06</td>\n",
       "      <td>1.450000e+07</td>\n",
       "      <td>10.000000</td>\n",
       "      <td>600.000000</td>\n",
       "      <td>5.600000e+06</td>\n",
       "      <td>3.700000e+06</td>\n",
       "      <td>1.460000e+07</td>\n",
       "      <td>4.600000e+06</td>\n",
       "      <td>0.000000</td>\n",
       "      <td>1.000000</td>\n",
       "      <td>0.000000</td>\n",
       "    </tr>\n",
       "    <tr>\n",
       "      <th>75%</th>\n",
       "      <td>3202.000000</td>\n",
       "      <td>4.000000</td>\n",
       "      <td>7.500000e+06</td>\n",
       "      <td>2.150000e+07</td>\n",
       "      <td>16.000000</td>\n",
       "      <td>748.000000</td>\n",
       "      <td>1.130000e+07</td>\n",
       "      <td>7.600000e+06</td>\n",
       "      <td>2.170000e+07</td>\n",
       "      <td>7.100000e+06</td>\n",
       "      <td>1.000000</td>\n",
       "      <td>1.000000</td>\n",
       "      <td>1.000000</td>\n",
       "    </tr>\n",
       "    <tr>\n",
       "      <th>max</th>\n",
       "      <td>4269.000000</td>\n",
       "      <td>5.000000</td>\n",
       "      <td>9.900000e+06</td>\n",
       "      <td>3.950000e+07</td>\n",
       "      <td>20.000000</td>\n",
       "      <td>900.000000</td>\n",
       "      <td>2.910000e+07</td>\n",
       "      <td>1.940000e+07</td>\n",
       "      <td>3.920000e+07</td>\n",
       "      <td>1.470000e+07</td>\n",
       "      <td>1.000000</td>\n",
       "      <td>1.000000</td>\n",
       "      <td>1.000000</td>\n",
       "    </tr>\n",
       "  </tbody>\n",
       "</table>\n",
       "</div>"
      ],
      "text/plain": [
       "           loan_id  no_of_dependents  income_annum   loan_amount    loan_term  \\\n",
       "count  4269.000000       4269.000000  4.269000e+03  4.269000e+03  4269.000000   \n",
       "mean   2135.000000          2.498712  5.059124e+06  1.513345e+07    10.900445   \n",
       "std    1232.498479          1.695910  2.806840e+06  9.043363e+06     5.709187   \n",
       "min       1.000000          0.000000  2.000000e+05  3.000000e+05     2.000000   \n",
       "25%    1068.000000          1.000000  2.700000e+06  7.700000e+06     6.000000   \n",
       "50%    2135.000000          3.000000  5.100000e+06  1.450000e+07    10.000000   \n",
       "75%    3202.000000          4.000000  7.500000e+06  2.150000e+07    16.000000   \n",
       "max    4269.000000          5.000000  9.900000e+06  3.950000e+07    20.000000   \n",
       "\n",
       "       cibil_score  residential_assets_value  commercial_assets_value  \\\n",
       "count  4269.000000              4.269000e+03             4.269000e+03   \n",
       "mean    599.936051              7.472617e+06             4.973155e+06   \n",
       "std     172.430401              6.503637e+06             4.388966e+06   \n",
       "min     300.000000             -1.000000e+05             0.000000e+00   \n",
       "25%     453.000000              2.200000e+06             1.300000e+06   \n",
       "50%     600.000000              5.600000e+06             3.700000e+06   \n",
       "75%     748.000000              1.130000e+07             7.600000e+06   \n",
       "max     900.000000              2.910000e+07             1.940000e+07   \n",
       "\n",
       "       luxury_assets_value  bank_asset_value  education_Not_Graduate  \\\n",
       "count         4.269000e+03      4.269000e+03             4269.000000   \n",
       "mean          1.512631e+07      4.976692e+06                0.497775   \n",
       "std           9.103754e+06      3.250185e+06                0.500054   \n",
       "min           3.000000e+05      0.000000e+00                0.000000   \n",
       "25%           7.500000e+06      2.300000e+06                0.000000   \n",
       "50%           1.460000e+07      4.600000e+06                0.000000   \n",
       "75%           2.170000e+07      7.100000e+06                1.000000   \n",
       "max           3.920000e+07      1.470000e+07                1.000000   \n",
       "\n",
       "       self_employed_Yes  loan_status_Rejected  \n",
       "count        4269.000000           4269.000000  \n",
       "mean            0.503631              0.377840  \n",
       "std             0.500045              0.484904  \n",
       "min             0.000000              0.000000  \n",
       "25%             0.000000              0.000000  \n",
       "50%             1.000000              0.000000  \n",
       "75%             1.000000              1.000000  \n",
       "max             1.000000              1.000000  "
      ]
     },
     "execution_count": 29,
     "metadata": {},
     "output_type": "execute_result"
    }
   ],
   "source": [
    "df.describe()"
   ]
  },
  {
   "cell_type": "code",
   "execution_count": 30,
   "id": "ebd27db4-9727-4119-a112-72c1e9f0a8d1",
   "metadata": {},
   "outputs": [
    {
     "data": {
      "text/plain": [
       "<Axes: ylabel='loan_id'>"
      ]
     },
     "execution_count": 30,
     "metadata": {},
     "output_type": "execute_result"
    },
    {
     "data": {
      "image/png": "[encoded data removed]",
      "text/plain": [
       "<Figure size 640x480 with 1 Axes>"
      ]
     },
     "metadata": {},
     "output_type": "display_data"
    }
   ],
   "source": [
    "# creating plot box plot for detection of outliers using seaborn\n",
    "sns.boxplot(df['loan_id'])"
   ]
  },
  {
   "cell_type": "code",
   "execution_count": 31,
   "id": "33c2b825-aad0-4d8c-b0fc-bdb9492cf93d",
   "metadata": {},
   "outputs": [
    {
     "data": {
      "text/plain": [
       "<Axes: ylabel='no_of_dependents'>"
      ]
     },
     "execution_count": 31,
     "metadata": {},
     "output_type": "execute_result"
    },
    {
     "data": {
      "image/png": "[encoded data removed]",
      "text/plain": [
       "<Figure size 640x480 with 1 Axes>"
      ]
     },
     "metadata": {},
     "output_type": "display_data"
    }
   ],
   "source": [
    "sns.boxplot(df['no_of_dependents'])\n"
   ]
  },
  {
   "cell_type": "code",
   "execution_count": 32,
   "id": "02f9f46c-2825-4792-822a-a457a4b33572",
   "metadata": {},
   "outputs": [
    {
     "data": {
      "text/plain": [
       "<Axes: ylabel='income_annum'>"
      ]
     },
     "execution_count": 32,
     "metadata": {},
     "output_type": "execute_result"
    },
    {
     "data": {
      "image/png": "[encoded data removed]",
      "text/plain": [
       "<Figure size 640x480 with 1 Axes>"
      ]
     },
     "metadata": {},
     "output_type": "display_data"
    }
   ],
   "source": [
    "sns.boxplot(df['income_annum'])"
   ]
  },
  {
   "cell_type": "code",
   "execution_count": 33,
   "id": "7dd5d221-9181-49ff-af07-a0174b618bc2",
   "metadata": {},
   "outputs": [
    {
     "data": {
      "text/plain": [
       "<Axes: ylabel='loan_amount'>"
      ]
     },
     "execution_count": 33,
     "metadata": {},
     "output_type": "execute_result"
    },
    {
     "data": {
      "image/png": "[encoded data removed]",
      "text/plain": [
       "<Figure size 640x480 with 1 Axes>"
      ]
     },
     "metadata": {},
     "output_type": "display_data"
    }
   ],
   "source": [
    "sns.boxplot(df['loan_amount'])"
   ]
  },
  {
   "cell_type": "code",
   "execution_count": 34,
   "id": "37b0f79f-6c2c-4061-9373-ccb3d2540b62",
   "metadata": {},
   "outputs": [
    {
     "data": {
      "text/plain": [
       "<Axes: ylabel='loan_term'>"
      ]
     },
     "execution_count": 34,
     "metadata": {},
     "output_type": "execute_result"
    },
    {
     "data": {
      "image/png": "[encoded data removed]",
      "text/plain": [
       "<Figure size 640x480 with 1 Axes>"
      ]
     },
     "metadata": {},
     "output_type": "display_data"
    }
   ],
   "source": [
    "sns.boxplot(df['loan_term'])"
   ]
  },
  {
   "cell_type": "code",
   "execution_count": 35,
   "id": "3904ccf8-97f0-422e-b6a6-d6236fd4b783",
   "metadata": {},
   "outputs": [
    {
     "data": {
      "text/plain": [
       "<Axes: ylabel='cibil_score'>"
      ]
     },
     "execution_count": 35,
     "metadata": {},
     "output_type": "execute_result"
    },
    {
     "data": {
      "image/png": "[encoded data removed]",
      "text/plain": [
       "<Figure size 640x480 with 1 Axes>"
      ]
     },
     "metadata": {},
     "output_type": "display_data"
    }
   ],
   "source": [
    "sns.boxplot(df['cibil_score'])"
   ]
  },
  {
   "cell_type": "code",
   "execution_count": 36,
   "id": "226b6c78-54f9-4ded-bce3-42484b44e630",
   "metadata": {},
   "outputs": [
    {
     "data": {
      "text/plain": [
       "<Axes: ylabel='residential_assets_value'>"
      ]
     },
     "execution_count": 36,
     "metadata": {},
     "output_type": "execute_result"
    },
    {
     "data": {
      "image/png": "[encoded data removed]",
      "text/plain": [
       "<Figure size 640x480 with 1 Axes>"
      ]
     },
     "metadata": {},
     "output_type": "display_data"
    }
   ],
   "source": [
    "sns.boxplot(df['residential_assets_value'])"
   ]
  },
  {
   "cell_type": "code",
   "execution_count": 37,
   "id": "5930497c-2d4f-4bb7-9169-d461e1190f66",
   "metadata": {},
   "outputs": [
    {
     "data": {
      "text/plain": [
       "<Axes: ylabel='commercial_assets_value'>"
      ]
     },
     "execution_count": 37,
     "metadata": {},
     "output_type": "execute_result"
    },
    {
     "data": {
      "image/png": "[encoded data removed]",
      "text/plain": [
       "<Figure size 640x480 with 1 Axes>"
      ]
     },
     "metadata": {},
     "output_type": "display_data"
    }
   ],
   "source": [
    "sns.boxplot(df['commercial_assets_value'])"
   ]
  },
  {
   "cell_type": "code",
   "execution_count": 38,
   "id": "4865b7a0-1244-45ae-a5a2-7789bf835cfc",
   "metadata": {},
   "outputs": [
    {
     "data": {
      "text/plain": [
       "<Axes: ylabel='luxury_assets_value'>"
      ]
     },
     "execution_count": 38,
     "metadata": {},
     "output_type": "execute_result"
    },
    {
     "data": {
      "image/png": "[encoded data removed]",
      "text/plain": [
       "<Figure size 640x480 with 1 Axes>"
      ]
     },
     "metadata": {},
     "output_type": "display_data"
    }
   ],
   "source": [
    "sns.boxplot(df['luxury_assets_value'])"
   ]
  },
  {
   "cell_type": "code",
   "execution_count": 39,
   "id": "b76474b0-79ce-44ac-8c11-62533c3e7355",
   "metadata": {},
   "outputs": [
    {
     "data": {
      "text/plain": [
       "<Axes: ylabel='bank_asset_value'>"
      ]
     },
     "execution_count": 39,
     "metadata": {},
     "output_type": "execute_result"
    },
    {
     "data": {
      "image/png": "[encoded data removed]",
      "text/plain": [
       "<Figure size 640x480 with 1 Axes>"
      ]
     },
     "metadata": {},
     "output_type": "display_data"
    }
   ],
   "source": [
    "sns.boxplot(df['bank_asset_value'])"
   ]
  },
  {
   "cell_type": "markdown",
   "id": "8498f6ca-a2da-405d-8727-18190a88489c",
   "metadata": {},
   "source": [
    " <span style=\"color: orange;\">  Note: The outliers are present in column residential_assets_value, commercial_assets_value , bank_asset_value. by seeing the boxplots it this is analysed"
   ]
  },
  {
   "cell_type": "markdown",
   "id": "0842e231-a2aa-4ddd-ba27-c76eac45e8df",
   "metadata": {},
   "source": [
    "##### <b> Outlier treatment in residential_assets_value column \n",
    "<span style=\"color: orange;\"> using IQR method we are going to remove all the outliers "
   ]
  },
  {
   "cell_type": "code",
   "execution_count": 42,
   "id": "cdd763e9-5525-4a1d-8eb1-2ff62ab28175",
   "metadata": {},
   "outputs": [
    {
     "name": "stdout",
     "output_type": "stream",
     "text": [
      "This is upper limit 24950000.0\n",
      "This is lower limit -11450000.0\n"
     ]
    }
   ],
   "source": [
    "percent25 = df['residential_assets_value'].quantile(0.25)  #getting 25 percentile value\n",
    "percent75 = df['residential_assets_value'].quantile(0.75)  #getting 75 percentile value\n",
    "\n",
    "iqr = percent75-percent25    #calculation our 50% data range\n",
    "\n",
    "#setting upper and lower limit\n",
    "upper_limit = percent75 + 1.5*iqr\n",
    "lower_limit = percent25 - 1.5*iqr\n",
    "\n",
    "print(\"This is upper limit\", upper_limit)\n",
    "print(\"This is lower limit\", lower_limit)\n",
    "\n"
   ]
  },
  {
   "cell_type": "code",
   "execution_count": 43,
   "id": "a83f09c5-3db0-40d9-ab89-0392300921ac",
   "metadata": {},
   "outputs": [
    {
     "data": {
      "text/html": [
       "<div>\n",
       "<style scoped>\n",
       "    .dataframe tbody tr th:only-of-type {\n",
       "        vertical-align: middle;\n",
       "    }\n",
       "\n",
       "    .dataframe tbody tr th {\n",
       "        vertical-align: top;\n",
       "    }\n",
       "\n",
       "    .dataframe thead th {\n",
       "        text-align: right;\n",
       "    }\n",
       "</style>\n",
       "<table border=\"1\" class=\"dataframe\">\n",
       "  <thead>\n",
       "    <tr style=\"text-align: right;\">\n",
       "      <th></th>\n",
       "      <th>loan_id</th>\n",
       "      <th>no_of_dependents</th>\n",
       "      <th>income_annum</th>\n",
       "      <th>loan_amount</th>\n",
       "      <th>loan_term</th>\n",
       "      <th>cibil_score</th>\n",
       "      <th>residential_assets_value</th>\n",
       "      <th>commercial_assets_value</th>\n",
       "      <th>luxury_assets_value</th>\n",
       "      <th>bank_asset_value</th>\n",
       "      <th>education_Not_Graduate</th>\n",
       "      <th>self_employed_Yes</th>\n",
       "      <th>loan_status_Rejected</th>\n",
       "    </tr>\n",
       "  </thead>\n",
       "  <tbody>\n",
       "    <tr>\n",
       "      <th>82</th>\n",
       "      <td>83</td>\n",
       "      <td>2</td>\n",
       "      <td>9900000</td>\n",
       "      <td>21200000</td>\n",
       "      <td>16</td>\n",
       "      <td>363</td>\n",
       "      <td>25500000</td>\n",
       "      <td>11400000</td>\n",
       "      <td>26600000</td>\n",
       "      <td>6800000</td>\n",
       "      <td>1</td>\n",
       "      <td>1</td>\n",
       "      <td>1</td>\n",
       "    </tr>\n",
       "    <tr>\n",
       "      <th>98</th>\n",
       "      <td>99</td>\n",
       "      <td>4</td>\n",
       "      <td>9400000</td>\n",
       "      <td>29400000</td>\n",
       "      <td>12</td>\n",
       "      <td>562</td>\n",
       "      <td>25900000</td>\n",
       "      <td>15200000</td>\n",
       "      <td>36400000</td>\n",
       "      <td>7100000</td>\n",
       "      <td>0</td>\n",
       "      <td>0</td>\n",
       "      <td>0</td>\n",
       "    </tr>\n",
       "    <tr>\n",
       "      <th>123</th>\n",
       "      <td>124</td>\n",
       "      <td>0</td>\n",
       "      <td>9000000</td>\n",
       "      <td>18700000</td>\n",
       "      <td>18</td>\n",
       "      <td>865</td>\n",
       "      <td>26800000</td>\n",
       "      <td>0</td>\n",
       "      <td>20900000</td>\n",
       "      <td>11300000</td>\n",
       "      <td>1</td>\n",
       "      <td>1</td>\n",
       "      <td>0</td>\n",
       "    </tr>\n",
       "    <tr>\n",
       "      <th>228</th>\n",
       "      <td>229</td>\n",
       "      <td>1</td>\n",
       "      <td>8700000</td>\n",
       "      <td>27000000</td>\n",
       "      <td>10</td>\n",
       "      <td>717</td>\n",
       "      <td>25500000</td>\n",
       "      <td>8600000</td>\n",
       "      <td>17500000</td>\n",
       "      <td>9100000</td>\n",
       "      <td>1</td>\n",
       "      <td>1</td>\n",
       "      <td>0</td>\n",
       "    </tr>\n",
       "    <tr>\n",
       "      <th>262</th>\n",
       "      <td>263</td>\n",
       "      <td>3</td>\n",
       "      <td>9200000</td>\n",
       "      <td>34300000</td>\n",
       "      <td>18</td>\n",
       "      <td>523</td>\n",
       "      <td>25600000</td>\n",
       "      <td>4000000</td>\n",
       "      <td>29100000</td>\n",
       "      <td>8800000</td>\n",
       "      <td>0</td>\n",
       "      <td>0</td>\n",
       "      <td>1</td>\n",
       "    </tr>\n",
       "  </tbody>\n",
       "</table>\n",
       "</div>"
      ],
      "text/plain": [
       "     loan_id  no_of_dependents  income_annum  loan_amount  loan_term  \\\n",
       "82        83                 2       9900000     21200000         16   \n",
       "98        99                 4       9400000     29400000         12   \n",
       "123      124                 0       9000000     18700000         18   \n",
       "228      229                 1       8700000     27000000         10   \n",
       "262      263                 3       9200000     34300000         18   \n",
       "\n",
       "     cibil_score  residential_assets_value  commercial_assets_value  \\\n",
       "82           363                  25500000                 11400000   \n",
       "98           562                  25900000                 15200000   \n",
       "123          865                  26800000                        0   \n",
       "228          717                  25500000                  8600000   \n",
       "262          523                  25600000                  4000000   \n",
       "\n",
       "     luxury_assets_value  bank_asset_value  education_Not_Graduate  \\\n",
       "82              26600000           6800000                       1   \n",
       "98              36400000           7100000                       0   \n",
       "123             20900000          11300000                       1   \n",
       "228             17500000           9100000                       1   \n",
       "262             29100000           8800000                       0   \n",
       "\n",
       "     self_employed_Yes  loan_status_Rejected  \n",
       "82                   1                     1  \n",
       "98                   0                     0  \n",
       "123                  1                     0  \n",
       "228                  1                     0  \n",
       "262                  0                     1  "
      ]
     },
     "execution_count": 43,
     "metadata": {},
     "output_type": "execute_result"
    }
   ],
   "source": [
    "#showing demo of 5 outliers of previous ctc\n",
    "df[(df['residential_assets_value'] < lower_limit) | (df['residential_assets_value'] > upper_limit)].head()"
   ]
  },
  {
   "cell_type": "code",
   "execution_count": 44,
   "id": "59bfb014-22c4-459a-9846-6a2b163b749c",
   "metadata": {},
   "outputs": [],
   "source": [
    "# Alternatively, using conditional indexing to remove all the outliers\n",
    "df.loc[df['residential_assets_value'] > upper_limit, 'residential_assets_value'] = upper_limit\n",
    "df.loc[df['residential_assets_value'] < lower_limit, 'residential_assets_value'] = lower_limit"
   ]
  },
  {
   "cell_type": "markdown",
   "id": "d3e03056-5902-4293-8dfa-f4b882223c02",
   "metadata": {},
   "source": [
    "##### <b> Outlier treatment in commercial_assets_value column "
   ]
  },
  {
   "cell_type": "code",
   "execution_count": 46,
   "id": "cadcf028-7237-46f5-a903-86ad8789a739",
   "metadata": {},
   "outputs": [
    {
     "name": "stdout",
     "output_type": "stream",
     "text": [
      "This is upper limit 17050000.0\n",
      "This is lower limit -8150000.0\n"
     ]
    }
   ],
   "source": [
    "percent25 = df['commercial_assets_value'].quantile(0.25)  #getting 25 percentile value\n",
    "percent75 = df['commercial_assets_value'].quantile(0.75)  #getting 75 percentile value\n",
    "\n",
    "iqr = percent75-percent25    #calculation our 50% data range\n",
    "\n",
    "#setting upper and lower limit\n",
    "upper_limit = percent75 + 1.5*iqr\n",
    "lower_limit = percent25 - 1.5*iqr\n",
    "\n",
    "print(\"This is upper limit\", upper_limit)\n",
    "print(\"This is lower limit\", lower_limit)\n",
    "\n"
   ]
  },
  {
   "cell_type": "code",
   "execution_count": 47,
   "id": "903a3a79-4ca5-4449-ba73-b8e031010b5f",
   "metadata": {},
   "outputs": [
    {
     "data": {
      "text/html": [
       "<div>\n",
       "<style scoped>\n",
       "    .dataframe tbody tr th:only-of-type {\n",
       "        vertical-align: middle;\n",
       "    }\n",
       "\n",
       "    .dataframe tbody tr th {\n",
       "        vertical-align: top;\n",
       "    }\n",
       "\n",
       "    .dataframe thead th {\n",
       "        text-align: right;\n",
       "    }\n",
       "</style>\n",
       "<table border=\"1\" class=\"dataframe\">\n",
       "  <thead>\n",
       "    <tr style=\"text-align: right;\">\n",
       "      <th></th>\n",
       "      <th>loan_id</th>\n",
       "      <th>no_of_dependents</th>\n",
       "      <th>income_annum</th>\n",
       "      <th>loan_amount</th>\n",
       "      <th>loan_term</th>\n",
       "      <th>cibil_score</th>\n",
       "      <th>residential_assets_value</th>\n",
       "      <th>commercial_assets_value</th>\n",
       "      <th>luxury_assets_value</th>\n",
       "      <th>bank_asset_value</th>\n",
       "      <th>education_Not_Graduate</th>\n",
       "      <th>self_employed_Yes</th>\n",
       "      <th>loan_status_Rejected</th>\n",
       "    </tr>\n",
       "  </thead>\n",
       "  <tbody>\n",
       "    <tr>\n",
       "      <th>0</th>\n",
       "      <td>1</td>\n",
       "      <td>2</td>\n",
       "      <td>9600000</td>\n",
       "      <td>29900000</td>\n",
       "      <td>12</td>\n",
       "      <td>778</td>\n",
       "      <td>2400000</td>\n",
       "      <td>17600000</td>\n",
       "      <td>22700000</td>\n",
       "      <td>8000000</td>\n",
       "      <td>0</td>\n",
       "      <td>0</td>\n",
       "      <td>0</td>\n",
       "    </tr>\n",
       "    <tr>\n",
       "      <th>157</th>\n",
       "      <td>158</td>\n",
       "      <td>5</td>\n",
       "      <td>9900000</td>\n",
       "      <td>33300000</td>\n",
       "      <td>6</td>\n",
       "      <td>364</td>\n",
       "      <td>5300000</td>\n",
       "      <td>18700000</td>\n",
       "      <td>27800000</td>\n",
       "      <td>8300000</td>\n",
       "      <td>1</td>\n",
       "      <td>1</td>\n",
       "      <td>1</td>\n",
       "    </tr>\n",
       "    <tr>\n",
       "      <th>231</th>\n",
       "      <td>232</td>\n",
       "      <td>2</td>\n",
       "      <td>9800000</td>\n",
       "      <td>32400000</td>\n",
       "      <td>2</td>\n",
       "      <td>543</td>\n",
       "      <td>24200000</td>\n",
       "      <td>17500000</td>\n",
       "      <td>25700000</td>\n",
       "      <td>7700000</td>\n",
       "      <td>0</td>\n",
       "      <td>0</td>\n",
       "      <td>0</td>\n",
       "    </tr>\n",
       "    <tr>\n",
       "      <th>258</th>\n",
       "      <td>259</td>\n",
       "      <td>0</td>\n",
       "      <td>9800000</td>\n",
       "      <td>38800000</td>\n",
       "      <td>8</td>\n",
       "      <td>652</td>\n",
       "      <td>23200000</td>\n",
       "      <td>19000000</td>\n",
       "      <td>29700000</td>\n",
       "      <td>5400000</td>\n",
       "      <td>0</td>\n",
       "      <td>0</td>\n",
       "      <td>0</td>\n",
       "    </tr>\n",
       "    <tr>\n",
       "      <th>323</th>\n",
       "      <td>324</td>\n",
       "      <td>3</td>\n",
       "      <td>9500000</td>\n",
       "      <td>24200000</td>\n",
       "      <td>8</td>\n",
       "      <td>879</td>\n",
       "      <td>3100000</td>\n",
       "      <td>17200000</td>\n",
       "      <td>26400000</td>\n",
       "      <td>12700000</td>\n",
       "      <td>1</td>\n",
       "      <td>1</td>\n",
       "      <td>0</td>\n",
       "    </tr>\n",
       "  </tbody>\n",
       "</table>\n",
       "</div>"
      ],
      "text/plain": [
       "     loan_id  no_of_dependents  income_annum  loan_amount  loan_term  \\\n",
       "0          1                 2       9600000     29900000         12   \n",
       "157      158                 5       9900000     33300000          6   \n",
       "231      232                 2       9800000     32400000          2   \n",
       "258      259                 0       9800000     38800000          8   \n",
       "323      324                 3       9500000     24200000          8   \n",
       "\n",
       "     cibil_score  residential_assets_value  commercial_assets_value  \\\n",
       "0            778                   2400000                 17600000   \n",
       "157          364                   5300000                 18700000   \n",
       "231          543                  24200000                 17500000   \n",
       "258          652                  23200000                 19000000   \n",
       "323          879                   3100000                 17200000   \n",
       "\n",
       "     luxury_assets_value  bank_asset_value  education_Not_Graduate  \\\n",
       "0               22700000           8000000                       0   \n",
       "157             27800000           8300000                       1   \n",
       "231             25700000           7700000                       0   \n",
       "258             29700000           5400000                       0   \n",
       "323             26400000          12700000                       1   \n",
       "\n",
       "     self_employed_Yes  loan_status_Rejected  \n",
       "0                    0                     0  \n",
       "157                  1                     1  \n",
       "231                  0                     0  \n",
       "258                  0                     0  \n",
       "323                  1                     0  "
      ]
     },
     "execution_count": 47,
     "metadata": {},
     "output_type": "execute_result"
    }
   ],
   "source": [
    "#showing demo of 5 outliers of previous ctc\n",
    "df[(df['commercial_assets_value'] < lower_limit) | (df['commercial_assets_value'] > upper_limit)].head()"
   ]
  },
  {
   "cell_type": "code",
   "execution_count": 48,
   "id": "9eaa9ab7-70b3-42db-a4c6-f0e32dad2555",
   "metadata": {},
   "outputs": [],
   "source": [
    "# Alternatively, using conditional indexing to remove all the outliers\n",
    "df.loc[df['commercial_assets_value'] > upper_limit, 'commercial_assets_value'] = upper_limit\n",
    "df.loc[df['commercial_assets_value'] < lower_limit, 'commercial_assets_value'] = lower_limit"
   ]
  },
  {
   "cell_type": "markdown",
   "id": "ea1748b4-b07f-44a0-bd85-bd048d89a708",
   "metadata": {},
   "source": [
    "##### <b> Outlier treatment in bank_asset_value column "
   ]
  },
  {
   "cell_type": "code",
   "execution_count": 50,
   "id": "87cc66c6-98d9-4454-9683-d728edaea928",
   "metadata": {},
   "outputs": [
    {
     "name": "stdout",
     "output_type": "stream",
     "text": [
      "This is upper limit 14300000.0\n",
      "This is lower limit -4900000.0\n"
     ]
    }
   ],
   "source": [
    "percent25 = df['bank_asset_value'].quantile(0.25)  #getting 25 percentile value\n",
    "percent75 = df['bank_asset_value'].quantile(0.75)  #getting 75 percentile value\n",
    "\n",
    "iqr = percent75-percent25    #calculation our 50% data range\n",
    "\n",
    "#setting upper and lower limit\n",
    "upper_limit = percent75 + 1.5*iqr\n",
    "lower_limit = percent25 - 1.5*iqr\n",
    "\n",
    "print(\"This is upper limit\", upper_limit)\n",
    "print(\"This is lower limit\", lower_limit)\n",
    "\n"
   ]
  },
  {
   "cell_type": "code",
   "execution_count": 51,
   "id": "70260009-adb0-4b73-9c65-f0b81946c085",
   "metadata": {},
   "outputs": [
    {
     "data": {
      "text/html": [
       "<div>\n",
       "<style scoped>\n",
       "    .dataframe tbody tr th:only-of-type {\n",
       "        vertical-align: middle;\n",
       "    }\n",
       "\n",
       "    .dataframe tbody tr th {\n",
       "        vertical-align: top;\n",
       "    }\n",
       "\n",
       "    .dataframe thead th {\n",
       "        text-align: right;\n",
       "    }\n",
       "</style>\n",
       "<table border=\"1\" class=\"dataframe\">\n",
       "  <thead>\n",
       "    <tr style=\"text-align: right;\">\n",
       "      <th></th>\n",
       "      <th>loan_id</th>\n",
       "      <th>no_of_dependents</th>\n",
       "      <th>income_annum</th>\n",
       "      <th>loan_amount</th>\n",
       "      <th>loan_term</th>\n",
       "      <th>cibil_score</th>\n",
       "      <th>residential_assets_value</th>\n",
       "      <th>commercial_assets_value</th>\n",
       "      <th>luxury_assets_value</th>\n",
       "      <th>bank_asset_value</th>\n",
       "      <th>education_Not_Graduate</th>\n",
       "      <th>self_employed_Yes</th>\n",
       "      <th>loan_status_Rejected</th>\n",
       "    </tr>\n",
       "  </thead>\n",
       "  <tbody>\n",
       "    <tr>\n",
       "      <th>200</th>\n",
       "      <td>201</td>\n",
       "      <td>4</td>\n",
       "      <td>9800000</td>\n",
       "      <td>21200000</td>\n",
       "      <td>20</td>\n",
       "      <td>355</td>\n",
       "      <td>22000000</td>\n",
       "      <td>8900000</td>\n",
       "      <td>31800000</td>\n",
       "      <td>14400000</td>\n",
       "      <td>1</td>\n",
       "      <td>1</td>\n",
       "      <td>1</td>\n",
       "    </tr>\n",
       "    <tr>\n",
       "      <th>1272</th>\n",
       "      <td>1273</td>\n",
       "      <td>5</td>\n",
       "      <td>9900000</td>\n",
       "      <td>35800000</td>\n",
       "      <td>20</td>\n",
       "      <td>470</td>\n",
       "      <td>9500000</td>\n",
       "      <td>17050000</td>\n",
       "      <td>39100000</td>\n",
       "      <td>14700000</td>\n",
       "      <td>1</td>\n",
       "      <td>0</td>\n",
       "      <td>1</td>\n",
       "    </tr>\n",
       "    <tr>\n",
       "      <th>1633</th>\n",
       "      <td>1634</td>\n",
       "      <td>0</td>\n",
       "      <td>9800000</td>\n",
       "      <td>23200000</td>\n",
       "      <td>10</td>\n",
       "      <td>573</td>\n",
       "      <td>23900000</td>\n",
       "      <td>3300000</td>\n",
       "      <td>23600000</td>\n",
       "      <td>14600000</td>\n",
       "      <td>0</td>\n",
       "      <td>1</td>\n",
       "      <td>0</td>\n",
       "    </tr>\n",
       "    <tr>\n",
       "      <th>1674</th>\n",
       "      <td>1675</td>\n",
       "      <td>1</td>\n",
       "      <td>9800000</td>\n",
       "      <td>21300000</td>\n",
       "      <td>2</td>\n",
       "      <td>356</td>\n",
       "      <td>23000000</td>\n",
       "      <td>12300000</td>\n",
       "      <td>25700000</td>\n",
       "      <td>14600000</td>\n",
       "      <td>1</td>\n",
       "      <td>0</td>\n",
       "      <td>1</td>\n",
       "    </tr>\n",
       "    <tr>\n",
       "      <th>1805</th>\n",
       "      <td>1806</td>\n",
       "      <td>5</td>\n",
       "      <td>9900000</td>\n",
       "      <td>33600000</td>\n",
       "      <td>20</td>\n",
       "      <td>580</td>\n",
       "      <td>7000000</td>\n",
       "      <td>10800000</td>\n",
       "      <td>37400000</td>\n",
       "      <td>14700000</td>\n",
       "      <td>1</td>\n",
       "      <td>0</td>\n",
       "      <td>0</td>\n",
       "    </tr>\n",
       "  </tbody>\n",
       "</table>\n",
       "</div>"
      ],
      "text/plain": [
       "      loan_id  no_of_dependents  income_annum  loan_amount  loan_term  \\\n",
       "200       201                 4       9800000     21200000         20   \n",
       "1272     1273                 5       9900000     35800000         20   \n",
       "1633     1634                 0       9800000     23200000         10   \n",
       "1674     1675                 1       9800000     21300000          2   \n",
       "1805     1806                 5       9900000     33600000         20   \n",
       "\n",
       "      cibil_score  residential_assets_value  commercial_assets_value  \\\n",
       "200           355                  22000000                  8900000   \n",
       "1272          470                   9500000                 17050000   \n",
       "1633          573                  23900000                  3300000   \n",
       "1674          356                  23000000                 12300000   \n",
       "1805          580                   7000000                 10800000   \n",
       "\n",
       "      luxury_assets_value  bank_asset_value  education_Not_Graduate  \\\n",
       "200              31800000          14400000                       1   \n",
       "1272             39100000          14700000                       1   \n",
       "1633             23600000          14600000                       0   \n",
       "1674             25700000          14600000                       1   \n",
       "1805             37400000          14700000                       1   \n",
       "\n",
       "      self_employed_Yes  loan_status_Rejected  \n",
       "200                   1                     1  \n",
       "1272                  0                     1  \n",
       "1633                  1                     0  \n",
       "1674                  0                     1  \n",
       "1805                  0                     0  "
      ]
     },
     "execution_count": 51,
     "metadata": {},
     "output_type": "execute_result"
    }
   ],
   "source": [
    "#showing demo of 5 outliers of previous ctc\n",
    "df[(df['bank_asset_value'] < lower_limit) | (df['bank_asset_value'] > upper_limit)].head()"
   ]
  },
  {
   "cell_type": "code",
   "execution_count": 52,
   "id": "5033cde3-a19f-49a5-8fe6-c8282147f032",
   "metadata": {},
   "outputs": [],
   "source": [
    "# Alternatively, using conditional indexing to remove all the outliers\n",
    "df.loc[df['bank_asset_value'] > upper_limit, 'bank_asset_value'] = upper_limit\n",
    "df.loc[df['bank_asset_value'] < lower_limit, 'bank_asset_value'] = lower_limit"
   ]
  },
  {
   "cell_type": "markdown",
   "id": "2322978b-4170-4fa6-8ccc-9b0da1a9876e",
   "metadata": {},
   "source": [
    "### <b>  3. Train test split"
   ]
  },
  {
   "cell_type": "markdown",
   "id": "f737ec9c-da89-48e2-a0b1-bd4142da0c56",
   "metadata": {},
   "source": [
    "###   3.1 Train test split(Test size 0.2)"
   ]
  },
  {
   "cell_type": "code",
   "execution_count": 57,
   "id": "7c2973ed-4533-4494-a481-60860951147e",
   "metadata": {},
   "outputs": [],
   "source": [
    "# Split data into dependent and Independent Variable\n",
    "\n",
    "X = df.loc[:, df.columns != 'loan_status_Rejected']\n",
    "y = df['loan_status_Rejected']"
   ]
  },
  {
   "cell_type": "code",
   "execution_count": 59,
   "id": "4f74e731-0a80-4884-b74b-d7e42b8f55ce",
   "metadata": {},
   "outputs": [],
   "source": [
    "# Split Data into train and test with test_size = 0.2(80% data into train and 20% to test)\n",
    "\n",
    "from sklearn.model_selection import train_test_split  \n",
    "\n",
    "X_train, X_test, y_train, y_test = train_test_split(X, y, test_size = 0.2, random_state = 42)"
   ]
  },
  {
   "cell_type": "markdown",
   "id": "4cd0a2ff-8568-43c3-a439-12c3ea2f5347",
   "metadata": {},
   "source": [
    "##### checking our train test split"
   ]
  },
  {
   "cell_type": "code",
   "execution_count": 62,
   "id": "b5604038-8a2d-4582-8698-658c1e5b76fc",
   "metadata": {},
   "outputs": [
    {
     "data": {
      "text/plain": [
       "(3415, 12)"
      ]
     },
     "execution_count": 62,
     "metadata": {},
     "output_type": "execute_result"
    }
   ],
   "source": [
    "X_train.shape"
   ]
  },
  {
   "cell_type": "code",
   "execution_count": 64,
   "id": "32d42c6c-1abd-48f7-b42a-98d64d466041",
   "metadata": {},
   "outputs": [
    {
     "data": {
      "text/plain": [
       "(854, 12)"
      ]
     },
     "execution_count": 64,
     "metadata": {},
     "output_type": "execute_result"
    }
   ],
   "source": [
    "X_test.shape"
   ]
  },
  {
   "cell_type": "code",
   "execution_count": 66,
   "id": "393237fe-5c3d-48cf-aace-46830b8b2002",
   "metadata": {},
   "outputs": [
    {
     "data": {
      "text/plain": [
       "1675    0\n",
       "1164    0\n",
       "192     0\n",
       "910     0\n",
       "567     1\n",
       "Name: loan_status_Rejected, dtype: int32"
      ]
     },
     "execution_count": 66,
     "metadata": {},
     "output_type": "execute_result"
    }
   ],
   "source": [
    "y_train.head()"
   ]
  },
  {
   "cell_type": "code",
   "execution_count": 68,
   "id": "3fec1a01-042e-4ef3-9b11-32f90ccf460f",
   "metadata": {},
   "outputs": [
    {
     "data": {
      "text/plain": [
       "1703    1\n",
       "1173    0\n",
       "308     1\n",
       "1322    0\n",
       "3271    0\n",
       "Name: loan_status_Rejected, dtype: int32"
      ]
     },
     "execution_count": 68,
     "metadata": {},
     "output_type": "execute_result"
    }
   ],
   "source": [
    "y_test.head()"
   ]
  },
  {
   "cell_type": "markdown",
   "id": "0c9abe96-882f-4a98-88e2-8eb22297d1e5",
   "metadata": {},
   "source": [
    "#### <B> scaling the data </B>"
   ]
  },
  {
   "cell_type": "code",
   "execution_count": 71,
   "id": "345c96f3-ef21-4ac6-9b07-c631416792d5",
   "metadata": {},
   "outputs": [],
   "source": [
    "# Import Standard scaler from sklearn for feature scaling(mean=0, std dev=1)\n",
    "from sklearn.preprocessing import StandardScaler\n",
    "\n",
    "# Create standard scaler object\n",
    "scaler = StandardScaler()\n",
    "\n",
    "# Scale the features in the training data using a previously fitted scaler\n",
    "X_train_s = scaler.fit_transform(X_train)\n",
    "\n",
    "# Scale the features in the test data using the same scaler to ensure consistency\n",
    "X_test_s = scaler.transform(X_test)\n"
   ]
  },
  {
   "cell_type": "markdown",
   "id": "8c6789a3-2845-41bb-9d48-f2da46966bd4",
   "metadata": {},
   "source": [
    "### <B> 4. Model Selection and Statistics for accuracy"
   ]
  },
  {
   "cell_type": "markdown",
   "id": "24dc9fa8-f02f-4683-a213-88f03aa6f89f",
   "metadata": {},
   "source": [
    "### 4.1 Machine Learning models with feature scaling and test size 0.2"
   ]
  },
  {
   "cell_type": "markdown",
   "id": "97883be8-551c-4af4-8ca1-4ffa442bb241",
   "metadata": {},
   "source": [
    "#### <b> A) Logistic  regression (test size 0.2 and with feature scaling)"
   ]
  },
  {
   "cell_type": "code",
   "execution_count": 76,
   "id": "dfdb0680-15cb-4a4f-9e48-b92347ba967c",
   "metadata": {},
   "outputs": [],
   "source": [
    "#importing required libraries\n",
    "from sklearn.metrics import accuracy_score,confusion_matrix"
   ]
  },
  {
   "cell_type": "code",
   "execution_count": 78,
   "id": "95f4fc34-e4c9-4036-b15a-dca704490390",
   "metadata": {},
   "outputs": [
    {
     "name": "stdout",
     "output_type": "stream",
     "text": [
      "confusion matrix: [[500  36]\n",
      " [ 43 275]]\n",
      "accuracy score train: 0.9194729136163983\n",
      "accuracy score test: 0.9074941451990632\n"
     ]
    }
   ],
   "source": [
    "#importing logistic regression\n",
    "from sklearn.linear_model import LogisticRegression\n",
    "\n",
    "# Create a LogisticRegression model\n",
    "logistic_clf = LogisticRegression()\n",
    "\n",
    "# Fit the model to the training data\n",
    "logistic_clf.fit(X_train_s, y_train)\n",
    "\n",
    "# Make predictions on the test data\n",
    "logistic_clf_pred = logistic_clf.predict(X_test_s)\n",
    "\n",
    "\n",
    "# Calculate and print the confusion_matrix\n",
    "print(\"confusion matrix:\",confusion_matrix(y_test, logistic_clf_pred))\n",
    "\n",
    "# Calculate and print the accuracy score\n",
    "print(\"accuracy score train:\", accuracy_score(y_train, logistic_clf.predict(X_train_s)))\n",
    "\n",
    "# Calculate and print the accuracy score\n",
    "print(\"accuracy score test:\", accuracy_score(y_test, logistic_clf_pred))\n",
    "\n"
   ]
  },
  {
   "cell_type": "markdown",
   "id": "8a1506bf-3616-4447-81c7-8e768768dccd",
   "metadata": {},
   "source": [
    "#### <b> B) LDA (Linear Disriminant Analysis) (test size 0.2 and with feature scaling)"
   ]
  },
  {
   "cell_type": "code",
   "execution_count": 81,
   "id": "13185039-eb6c-47db-bc7e-f8b770e37688",
   "metadata": {},
   "outputs": [
    {
     "name": "stdout",
     "output_type": "stream",
     "text": [
      "confusion matrix: [[483  53]\n",
      " [ 19 299]]\n",
      "accuracy score train: 0.9297218155197657\n",
      "accuracy score: 0.9156908665105387\n"
     ]
    }
   ],
   "source": [
    "#importing LDA\n",
    "from sklearn.discriminant_analysis import LinearDiscriminantAnalysis\n",
    "\n",
    "# Create a LDA model = LinearDiscriminantAnalysis()\n",
    "LDA_clf = LinearDiscriminantAnalysis()\n",
    "\n",
    "# Fit the model to the training data\n",
    "LDA_clf.fit(X_train_s, y_train)\n",
    "\n",
    "# Make predictions on the test data\n",
    "LDA_clf_pred = LDA_clf.predict(X_test_s)\n",
    "\n",
    "# Calculate and print the confusion_matrix\n",
    "print(\"confusion matrix:\",confusion_matrix(y_test, LDA_clf_pred))\n",
    "\n",
    "# Calculate and print the accuracy score\n",
    "print(\"accuracy score train:\", accuracy_score(y_train, LDA_clf.predict(X_train_s)))\n",
    "\n",
    "\n",
    "# Calculate and print the accuracy score\n",
    "print(\"accuracy score:\", accuracy_score(y_test, LDA_clf_pred))\n"
   ]
  },
  {
   "cell_type": "markdown",
   "id": "b88b8d99-8eb2-4124-a798-bd74d2bc47cb",
   "metadata": {},
   "source": [
    "#### <b> C) KNN(K-nearest neighbour) (test size 0.2 and with feature scaling)"
   ]
  },
  {
   "cell_type": "code",
   "execution_count": 84,
   "id": "793dffe7-ff31-47fa-a858-901a758434a2",
   "metadata": {},
   "outputs": [
    {
     "name": "stdout",
     "output_type": "stream",
     "text": [
      "confusion matrix: [[477  59]\n",
      " [ 44 274]]\n",
      "accuracy score train: 0.9428989751098097\n",
      "accuracy score: 0.8793911007025761\n"
     ]
    }
   ],
   "source": [
    "\n",
    "#importing KNN\n",
    "from sklearn.neighbors import KNeighborsClassifier\n",
    "\n",
    "# Create a variable for fitting model\n",
    "KNN_clf = KNeighborsClassifier(n_neighbors=3)\n",
    "\n",
    "# Fit the model to the training data\n",
    "KNN_clf.fit(X_train_s, y_train)\n",
    "\n",
    "# Make predictions on the test data\n",
    "KNN_clf_pred = KNN_clf.predict(X_test_s)\n",
    "\n",
    "# Calculate and print the confusion_matrix\n",
    "print(\"confusion matrix:\",confusion_matrix(y_test, KNN_clf_pred))\n",
    "\n",
    "# Calculate and print the accuracy score\n",
    "print(\"accuracy score train:\", accuracy_score(y_train, KNN_clf.predict(X_train_s)))\n",
    "\n",
    "# Calculate and print the accuracy score\n",
    "print(\"accuracy score:\", accuracy_score(y_test, KNN_clf_pred))\n"
   ]
  },
  {
   "cell_type": "markdown",
   "id": "8106821b-6c46-47e7-84c0-3c12177957a7",
   "metadata": {},
   "source": [
    "#### <b> D) Decision tree (test size 0.2 and with feature scaling)"
   ]
  },
  {
   "cell_type": "code",
   "execution_count": 86,
   "id": "9a218645-962e-4a8f-bc43-e02932f1637f",
   "metadata": {},
   "outputs": [
    {
     "name": "stdout",
     "output_type": "stream",
     "text": [
      "confusion matrix: [[530   6]\n",
      " [ 21 297]]\n",
      "accuracy score train: 0.9803806734992679\n",
      "accuracy score: 0.968384074941452\n"
     ]
    }
   ],
   "source": [
    "# Import DecisionTreeRegressor\n",
    "from sklearn.tree import DecisionTreeClassifier\n",
    "\n",
    "\n",
    "# Create a DecisionTreeClassifier model with best parameters\n",
    "dtc = DecisionTreeClassifier(max_depth=6,min_samples_leaf=30,min_samples_split = 20,random_state=42)\n",
    "\n",
    "# Train the model using the training data\n",
    "dtc.fit(X_train_s, y_train)\n",
    "\n",
    "# Train the model using the training data\n",
    "dtc_pred = dtc.predict(X_test_s)\n",
    "\n",
    "# Calculate and print the confusion_matrix\n",
    "print(\"confusion matrix:\",confusion_matrix(y_test, dtc_pred))\n",
    "\n",
    "# Calculate and print the accuracy score\n",
    "print(\"accuracy score train:\", accuracy_score(y_train,dtc.predict(X_train_s)))\n",
    "\n",
    "# Calculate and print the accuracy score\n",
    "print(\"accuracy score:\", accuracy_score(y_test, dtc_pred))\n"
   ]
  },
  {
   "cell_type": "code",
   "execution_count": 89,
   "id": "db27308d-2a41-4be8-aea0-f486ac803dd2",
   "metadata": {},
   "outputs": [],
   "source": [
    "#importing gridsearchcv to get best parameter of decision tree\n",
    "from sklearn.model_selection import GridSearchCV\n",
    "\n",
    "# Parameters\n",
    "params_grid = {\"max_depth\": [4,5,6,7,8,9,10] ,\n",
    "              \"min_samples_leaf\" : [20,30,40,50,60,70,80,90,100,200],\n",
    "              \"min_samples_split\" : [20,30,40,50,60,70,80,90,100,200] }\n",
    "\n",
    "# Find best parameter for model\n",
    "grid_search = GridSearchCV(dtc, params_grid, n_jobs=-1, cv=5)\n",
    "\n",
    "#fiting model\n",
    "grid_search.fit(X_train_s, y_train)\n",
    "\n",
    "# Best parameters\n",
    "grid_search.best_params_\n",
    "\n",
    "# we fited the best model of dfr to cvdfr\n",
    "cvdfr = grid_search.best_estimator_\n",
    "\n",
    "# Train the model using the training data\n",
    "cvdtr_pred = dtc.predict(X_test_s)\n",
    "\n"
   ]
  },
  {
   "cell_type": "code",
   "execution_count": 90,
   "id": "970725c9-fdb7-4c36-adbb-d33562dbf661",
   "metadata": {},
   "outputs": [
    {
     "data": {
      "text/plain": [
       "{'max_depth': 6, 'min_samples_leaf': 30, 'min_samples_split': 20}"
      ]
     },
     "execution_count": 90,
     "metadata": {},
     "output_type": "execute_result"
    }
   ],
   "source": [
    "# Best parameters\n",
    "grid_search.best_params_"
   ]
  },
  {
   "cell_type": "code",
   "execution_count": 91,
   "id": "d2067c41-7305-4b44-b5de-32aea178a430",
   "metadata": {},
   "outputs": [
    {
     "data": {
      "image/png": "[encoded data removed]",
      "text/plain": [
       "<IPython.core.display.Image object>"
      ]
     },
     "execution_count": 91,
     "metadata": {},
     "output_type": "execute_result"
    }
   ],
   "source": [
    "#Plotting decision tree\n",
    "from sklearn import tree\n",
    "\n",
    "#creating dot file\n",
    "dot_data = tree.export_graphviz(dtc,out_file=None,feature_names = X_train.columns,filled = True)\n",
    "\n",
    "#importing library\n",
    "from IPython.display import Image\n",
    "import pydotplus\n",
    "graph=pydotplus.graph_from_dot_data(dot_data)\n",
    "Image(graph.create_png())"
   ]
  },
  {
   "cell_type": "markdown",
   "id": "6ff1870a-ef85-4806-bd95-dee73d0a1b08",
   "metadata": {},
   "source": [
    "### <B> E) Bagging  (test size 0.2 and with feature scaling)"
   ]
  },
  {
   "cell_type": "code",
   "execution_count": 93,
   "id": "3935c15f-ebec-439c-99ca-1bcdbbabd1d6",
   "metadata": {},
   "outputs": [
    {
     "name": "stdout",
     "output_type": "stream",
     "text": [
      "confusion matrix: [[530   6]\n",
      " [ 10 308]]\n",
      "accuracy score train: 1.0\n",
      "accuracy score: 0.9812646370023419\n"
     ]
    }
   ],
   "source": [
    "#import tree\n",
    "from sklearn import tree\n",
    "\n",
    "# Create a DecisionTreeClassifier mode with best parameters\n",
    "dtc = DecisionTreeClassifier()\n",
    "\n",
    "#importing bagging\n",
    "from sklearn.ensemble import BaggingClassifier\n",
    "\n",
    "# Create bagging with parameter that we dont want to change\n",
    "bgg = BaggingClassifier(estimator= dtc,n_estimators=1000,bootstrap= True ,random_state=42,n_jobs=-1)\n",
    "\n",
    "# Fit model on train data\n",
    "bgg.fit(X_train_s, y_train)\n",
    "\n",
    "# Make prediction on test data\n",
    "bgg_pred = bgg.predict(X_test_s)\n",
    "\n",
    "# Calculate and print the confusion_matrix\n",
    "print(\"confusion matrix:\",confusion_matrix(y_test, bgg_pred))\n",
    "\n",
    "# Calculate and print the accuracy score\n",
    "print(\"accuracy score train:\", accuracy_score(y_train,bgg.predict(X_train_s)))\n",
    "\n",
    "# Calculate and print the accuracy score\n",
    "print(\"accuracy score:\", accuracy_score(y_test, bgg_pred))\n"
   ]
  },
  {
   "cell_type": "markdown",
   "id": "b7e9da26-3c88-4a40-b6c9-b3e15ded53e0",
   "metadata": {},
   "source": [
    "#### <B> F)  Random forest  ( With feature scaling test size 0.2)"
   ]
  },
  {
   "cell_type": "code",
   "execution_count": 95,
   "id": "2df4ea4a-1b6f-4a9d-beea-0f4eac9e209a",
   "metadata": {},
   "outputs": [
    {
     "name": "stdout",
     "output_type": "stream",
     "text": [
      "confusion matrix: [[529   7]\n",
      " [ 13 305]]\n",
      "accuracy score train: 1.0\n",
      "accuracy score: 0.9765807962529274\n"
     ]
    }
   ],
   "source": [
    "# Import Random Forest from sklearn\n",
    "from sklearn.ensemble import RandomForestClassifier\n",
    "\n",
    "\n",
    "# Create Random forest Classifier\n",
    "rnd = RandomForestClassifier(n_estimators=1000,n_jobs=-1,random_state=42)\n",
    "\n",
    "# Fit model on train data\n",
    "rnd.fit(X_train_s, y_train)\n",
    "\n",
    "# Make prediction on test data\n",
    "rnd_pred = rnd.predict(X_test_s)\n",
    "\n",
    "# Calculate and print the confusion_matrix\n",
    "print(\"confusion matrix:\",confusion_matrix(y_test, rnd_pred))\n",
    "\n",
    "# Calculate and print the accuracy score\n",
    "print(\"accuracy score train:\", accuracy_score(y_train,rnd.predict(X_train_s)))\n",
    "\n",
    "# Calculate and print the accuracy score\n",
    "print(\"accuracy score:\", accuracy_score(y_test, rnd_pred))\n",
    "\n"
   ]
  },
  {
   "cell_type": "markdown",
   "id": "9cacc37f-f3d3-4f82-8be5-dd76db6de921",
   "metadata": {},
   "source": [
    "#### <B> G) Gradient boost ( With feature scaling test size 0.2)"
   ]
  },
  {
   "cell_type": "code",
   "execution_count": 97,
   "id": "d285eee7-da22-48dc-b1fd-f5b2fe94c923",
   "metadata": {},
   "outputs": [
    {
     "name": "stdout",
     "output_type": "stream",
     "text": [
      "confusion matrix: [[531   5]\n",
      " [ 11 307]]\n",
      "accuracy score train: 1.0\n",
      "accuracy score: 0.9812646370023419\n"
     ]
    }
   ],
   "source": [
    "# Import gradient boost from sklearn\n",
    "from sklearn.ensemble import GradientBoostingClassifier\n",
    "\n",
    "# Create gradient boost classifier with hyperparameters\n",
    "gbc = GradientBoostingClassifier(n_estimators=1000,random_state=42,learning_rate=0.02)\n",
    "\n",
    "# Fit model on train data\n",
    "gbc.fit(X_train_s, y_train)\n",
    "\n",
    "# Make prediction on test data\n",
    "gbc_pred = gbc.predict(X_test_s)\n",
    "\n",
    "# Calculate and print the confusion_matrix\n",
    "print(\"confusion matrix:\",confusion_matrix(y_test, gbc_pred))\n",
    "\n",
    "# Calculate and print the accuracy score\n",
    "print(\"accuracy score train:\", accuracy_score(y_train,gbc.predict(X_train_s)))\n",
    "\n",
    "# Calculate and print the accuracy score\n",
    "print(\"accuracy score:\", accuracy_score(y_test, gbc_pred))\n",
    "\n"
   ]
  },
  {
   "cell_type": "markdown",
   "id": "92982a50-1baf-48c0-a508-6b672f0eb7b0",
   "metadata": {},
   "source": [
    "#### <B> H) Ada boost ( With feature scaling test size 0.2)"
   ]
  },
  {
   "cell_type": "code",
   "execution_count": 99,
   "id": "444f223a-51ce-42bf-8aac-4fb185235670",
   "metadata": {},
   "outputs": [
    {
     "name": "stdout",
     "output_type": "stream",
     "text": [
      "confusion matrix: [[500  36]\n",
      " [  1 317]]\n",
      "accuracy score train: 0.9531478770131772\n",
      "accuracy score: 0.9566744730679156\n"
     ]
    }
   ],
   "source": [
    "# Import Ada boost from sklearn\n",
    "from sklearn.ensemble import AdaBoostClassifier\n",
    "\n",
    "# Create Ada boost Classifier with random forest\n",
    "abc = AdaBoostClassifier(learning_rate=0.02,n_estimators = 1000,random_state=42,algorithm='SAMME')\n",
    "\n",
    "# Fit model on train data\n",
    "abc.fit(X_train_s, y_train)\n",
    "\n",
    "# Make prediction on test data\n",
    "abc_pred = abc.predict(X_test_s)\n",
    "\n",
    "# Calculate and print the confusion_matrix\n",
    "print(\"confusion matrix:\",confusion_matrix(y_test, abc_pred))\n",
    "\n",
    "# Calculate and print the accuracy score\n",
    "print(\"accuracy score train:\", accuracy_score(y_train,abc.predict(X_train_s)))\n",
    "\n",
    "# Calculate and print the accuracy score\n",
    "print(\"accuracy score:\", accuracy_score(y_test, abc_pred))\n",
    "\n"
   ]
  },
  {
   "cell_type": "markdown",
   "id": "c66b5561-b4d9-42f7-92ef-26ff100855f1",
   "metadata": {},
   "source": [
    "#### <B> H) XG boost ( With feature scaling test size 0.2)"
   ]
  },
  {
   "cell_type": "code",
   "execution_count": 101,
   "id": "640df85d-2c78-4fbd-8b20-61f36df4d019",
   "metadata": {},
   "outputs": [
    {
     "name": "stdout",
     "output_type": "stream",
     "text": [
      "confusion matrix: [[528   8]\n",
      " [ 14 304]]\n",
      "accuracy score train: 0.9979502196193265\n",
      "accuracy score: 0.9742388758782201\n"
     ]
    }
   ],
   "source": [
    "# Import XG boost from sklearn\n",
    "import xgboost as xgb\n",
    "\n",
    "# Create xg boost classifier\n",
    "xgb_clf = xgb.XGBClassifier(n_estimators=1000,learning_rate=0.02,random_state=42,max_depth=3)\n",
    "\n",
    "# Fit model on train data\n",
    "xgb_clf.fit(X_train_s, y_train)\n",
    "\n",
    "# Make prediction on test data\n",
    "xgb_pred = xgb_clf.predict(X_test_s)\n",
    "\n",
    "# Calculate and print the confusion_matrix\n",
    "print(\"confusion matrix:\",confusion_matrix(y_test, xgb_pred))\n",
    "\n",
    "# Calculate and print the accuracy score\n",
    "print(\"accuracy score train:\", accuracy_score(y_train,xgb_clf.predict(X_train_s)))\n",
    "\n",
    "# Calculate and print the accuracy score\n",
    "print(\"accuracy score:\", accuracy_score(y_test, xgb_pred))\n",
    "\n",
    "\n"
   ]
  },
  {
   "cell_type": "markdown",
   "id": "52546c9e-b052-4513-97b6-a6abd284a6ae",
   "metadata": {},
   "source": [
    "###   3.2 Train test split(Test size 0.1)"
   ]
  },
  {
   "cell_type": "code",
   "execution_count": 103,
   "id": "8e36a2a8-07dc-4305-a6ac-c88157b45e62",
   "metadata": {},
   "outputs": [],
   "source": [
    "# Split Data into train and test with test_size = 0.1(80% data into train and 20% to test)\n",
    "\n",
    "from sklearn.model_selection import train_test_split  \n",
    "\n",
    "X_train, X_test, y_train, y_test = train_test_split(X, y, test_size = 0.1, random_state = 42)"
   ]
  },
  {
   "cell_type": "code",
   "execution_count": 104,
   "id": "f6a77ca1-5f0c-4d26-941a-913743bb7f11",
   "metadata": {},
   "outputs": [
    {
     "data": {
      "text/plain": [
       "(3842, 12)"
      ]
     },
     "execution_count": 104,
     "metadata": {},
     "output_type": "execute_result"
    }
   ],
   "source": [
    "X_train.shape"
   ]
  },
  {
   "cell_type": "code",
   "execution_count": 105,
   "id": "fc7e5fae-0848-40aa-a111-9476bffac05e",
   "metadata": {},
   "outputs": [
    {
     "data": {
      "text/plain": [
       "(427, 12)"
      ]
     },
     "execution_count": 105,
     "metadata": {},
     "output_type": "execute_result"
    }
   ],
   "source": [
    "X_test.shape"
   ]
  },
  {
   "cell_type": "markdown",
   "id": "d4fa591d-1b49-470d-8181-5efed5edb996",
   "metadata": {},
   "source": [
    "#### <B> scaling the data </B>"
   ]
  },
  {
   "cell_type": "code",
   "execution_count": 109,
   "id": "5696f50b-912c-4023-9092-3f603a348238",
   "metadata": {},
   "outputs": [],
   "source": [
    "# Import Standard scaler from sklearn for feature scaling(mean=0, std dev=1)\n",
    "from sklearn.preprocessing import StandardScaler\n",
    "\n",
    "# Create standard scaler object\n",
    "scaler = StandardScaler()\n",
    "\n",
    "# Scale the features in the training data using a previously fitted scaler\n",
    "X_train_s = scaler.fit_transform(X_train)\n",
    "\n",
    "# Scale the features in the test data using the same scaler to ensure consistency\n",
    "X_test_s = scaler.transform(X_test)\n"
   ]
  },
  {
   "cell_type": "markdown",
   "id": "a0e4c3d2-8a8d-45d1-ba03-ad446fe0ca56",
   "metadata": {},
   "source": [
    "#### <b> A) Logistic  regression (test size 0.1 and with feature scaling)"
   ]
  },
  {
   "cell_type": "code",
   "execution_count": 111,
   "id": "f2cfae50-fdfe-4cbd-9cbe-0e298923fa30",
   "metadata": {},
   "outputs": [],
   "source": [
    "#importing required libraries\n",
    "from sklearn.metrics import accuracy_score,confusion_matrix"
   ]
  },
  {
   "cell_type": "code",
   "execution_count": 112,
   "id": "efc0f29d-002f-4545-abf6-e7473d536f97",
   "metadata": {},
   "outputs": [
    {
     "name": "stdout",
     "output_type": "stream",
     "text": [
      "confusion matrix: [[245  19]\n",
      " [ 17 146]]\n",
      "accuracy score train: 0.9203539823008849\n",
      "accuracy score test: 0.9156908665105387\n"
     ]
    }
   ],
   "source": [
    "#importing logistic regression\n",
    "from sklearn.linear_model import LogisticRegression\n",
    "\n",
    "# Create a LogisticRegression model\n",
    "logistic_clf = LogisticRegression()\n",
    "\n",
    "# Fit the model to the training data\n",
    "logistic_clf.fit(X_train_s, y_train)\n",
    "\n",
    "# Make predictions on the test data\n",
    "logistic_clf_pred = logistic_clf.predict(X_test_s)\n",
    "\n",
    "\n",
    "# Calculate and print the confusion_matrix\n",
    "print(\"confusion matrix:\",confusion_matrix(y_test, logistic_clf_pred))\n",
    "\n",
    "# Calculate and print the accuracy score\n",
    "print(\"accuracy score train:\", accuracy_score(y_train, logistic_clf.predict(X_train_s)))\n",
    "\n",
    "# Calculate and print the accuracy score\n",
    "print(\"accuracy score test:\", accuracy_score(y_test, logistic_clf_pred))\n",
    "\n"
   ]
  },
  {
   "cell_type": "markdown",
   "id": "37908f3f-772e-44df-b6f9-1af0213e18d4",
   "metadata": {},
   "source": [
    "#### <b> B) LDA (Linear Disriminant Analysis) (test size 0.1 and with feature scaling)"
   ]
  },
  {
   "cell_type": "code",
   "execution_count": 114,
   "id": "8a5378dc-b4c7-430b-9555-2a75670ea81c",
   "metadata": {},
   "outputs": [
    {
     "name": "stdout",
     "output_type": "stream",
     "text": [
      "confusion matrix: [[239  25]\n",
      " [  9 154]]\n",
      "accuracy score train: 0.9299843831337845\n",
      "accuracy score: 0.9203747072599532\n"
     ]
    }
   ],
   "source": [
    "#importing LDA\n",
    "from sklearn.discriminant_analysis import LinearDiscriminantAnalysis\n",
    "\n",
    "# Create a LDA model = LinearDiscriminantAnalysis()\n",
    "LDA_clf = LinearDiscriminantAnalysis()\n",
    "\n",
    "# Fit the model to the training data\n",
    "LDA_clf.fit(X_train_s, y_train)\n",
    "\n",
    "# Make predictions on the test data\n",
    "LDA_clf_pred = LDA_clf.predict(X_test_s)\n",
    "\n",
    "# Calculate and print the confusion_matrix\n",
    "print(\"confusion matrix:\",confusion_matrix(y_test, LDA_clf_pred))\n",
    "\n",
    "# Calculate and print the accuracy score\n",
    "print(\"accuracy score train:\", accuracy_score(y_train, LDA_clf.predict(X_train_s)))\n",
    "\n",
    "\n",
    "# Calculate and print the accuracy score\n",
    "print(\"accuracy score:\", accuracy_score(y_test, LDA_clf_pred))\n"
   ]
  },
  {
   "cell_type": "markdown",
   "id": "af814cca-79f7-4927-a31f-8b3fd8a68613",
   "metadata": {},
   "source": [
    "#### <b> C) KNN(K-nearest neighbour) (test size 0.1 and with feature scaling)"
   ]
  },
  {
   "cell_type": "code",
   "execution_count": 116,
   "id": "210e5444-a270-4116-a81b-1985d812a4d6",
   "metadata": {},
   "outputs": [
    {
     "name": "stdout",
     "output_type": "stream",
     "text": [
      "confusion matrix: [[231  33]\n",
      " [ 21 142]]\n",
      "accuracy score train: 0.9448204060385216\n",
      "accuracy score: 0.8735362997658079\n"
     ]
    }
   ],
   "source": [
    "\n",
    "#importing KNN\n",
    "from sklearn.neighbors import KNeighborsClassifier\n",
    "\n",
    "# Create a variable for fitting model\n",
    "KNN_clf = KNeighborsClassifier(n_neighbors=3)\n",
    "\n",
    "# Fit the model to the training data\n",
    "KNN_clf.fit(X_train_s, y_train)\n",
    "\n",
    "# Make predictions on the test data\n",
    "KNN_clf_pred = KNN_clf.predict(X_test_s)\n",
    "\n",
    "# Calculate and print the confusion_matrix\n",
    "print(\"confusion matrix:\",confusion_matrix(y_test, KNN_clf_pred))\n",
    "\n",
    "# Calculate and print the accuracy score\n",
    "print(\"accuracy score train:\", accuracy_score(y_train, KNN_clf.predict(X_train_s)))\n",
    "\n",
    "# Calculate and print the accuracy score\n",
    "print(\"accuracy score:\", accuracy_score(y_test, KNN_clf_pred))\n"
   ]
  },
  {
   "cell_type": "markdown",
   "id": "b6987312-895e-495e-8f7b-f90411bad3c1",
   "metadata": {},
   "source": [
    "#### <b> D) Decision tree (test size 0.1 and with feature scaling)"
   ]
  },
  {
   "cell_type": "code",
   "execution_count": 118,
   "id": "b90ec610-4fcc-4949-a4fd-cf1f5f2e437c",
   "metadata": {},
   "outputs": [
    {
     "name": "stdout",
     "output_type": "stream",
     "text": [
      "confusion matrix: [[263   1]\n",
      " [ 13 150]]\n",
      "accuracy score train: 0.976314419573139\n",
      "accuracy score: 0.9672131147540983\n"
     ]
    }
   ],
   "source": [
    "# Import DecisionTreeRegressor\n",
    "from sklearn.tree import DecisionTreeClassifier\n",
    "\n",
    "\n",
    "# Create a DecisionTreeClassifier model with best parameters\n",
    "dtc = DecisionTreeClassifier(max_depth=6,min_samples_leaf=30,min_samples_split = 20,random_state=42)\n",
    "\n",
    "# Train the model using the training data\n",
    "dtc.fit(X_train_s, y_train)\n",
    "\n",
    "# Train the model using the training data\n",
    "dtc_pred = dtc.predict(X_test_s)\n",
    "\n",
    "# Calculate and print the confusion_matrix\n",
    "print(\"confusion matrix:\",confusion_matrix(y_test, dtc_pred))\n",
    "\n",
    "# Calculate and print the accuracy score\n",
    "print(\"accuracy score train:\", accuracy_score(y_train,dtc.predict(X_train_s)))\n",
    "\n",
    "# Calculate and print the accuracy score\n",
    "print(\"accuracy score:\", accuracy_score(y_test, dtc_pred))\n"
   ]
  },
  {
   "cell_type": "markdown",
   "id": "591bfa56-9a48-4573-988c-c48520569ea7",
   "metadata": {},
   "source": [
    "### <B> E) Bagging  (test size 0.1 and with feature scaling)"
   ]
  },
  {
   "cell_type": "code",
   "execution_count": 120,
   "id": "a47a4ab1-d68d-4be5-853c-37296929ce7a",
   "metadata": {},
   "outputs": [
    {
     "name": "stdout",
     "output_type": "stream",
     "text": [
      "confusion matrix: [[261   3]\n",
      " [  5 158]]\n",
      "accuracy score train: 1.0\n",
      "accuracy score: 0.9812646370023419\n"
     ]
    }
   ],
   "source": [
    "#import tree\n",
    "from sklearn import tree\n",
    "\n",
    "\n",
    "# Create a DecisionTreeClassifier mode with best parameters\n",
    "dtc = DecisionTreeClassifier()\n",
    "\n",
    "#importing bagging\n",
    "from sklearn.ensemble import BaggingClassifier\n",
    "\n",
    "# Create bagging with parameter that we dont want to change\n",
    "bgg = BaggingClassifier(estimator= dtc,n_estimators=1000,bootstrap= True ,random_state=42,n_jobs=-1)\n",
    "\n",
    "# Fit model on train data\n",
    "bgg.fit(X_train_s, y_train)\n",
    "\n",
    "# Make prediction on test data\n",
    "bgg_pred = bgg.predict(X_test_s)\n",
    "\n",
    "# Calculate and print the confusion_matrix\n",
    "print(\"confusion matrix:\",confusion_matrix(y_test, bgg_pred))\n",
    "\n",
    "# Calculate and print the accuracy score\n",
    "print(\"accuracy score train:\", accuracy_score(y_train,bgg.predict(X_train_s)))\n",
    "\n",
    "\n",
    "# Calculate and print the accuracy score\n",
    "print(\"accuracy score:\", accuracy_score(y_test, bgg_pred))\n",
    "\n",
    "\n"
   ]
  },
  {
   "cell_type": "markdown",
   "id": "ab61ab41-5dba-4dca-a383-3f94745de193",
   "metadata": {},
   "source": [
    "### <B> F) Random Forest (test size 0.1 and with feature scaling)"
   ]
  },
  {
   "cell_type": "code",
   "execution_count": 122,
   "id": "e1c98d06-05b1-4b04-9053-626fa0f1a5eb",
   "metadata": {},
   "outputs": [
    {
     "name": "stdout",
     "output_type": "stream",
     "text": [
      "confusion matrix: [[260   4]\n",
      " [  6 157]]\n",
      "accuracy score train: 1.0\n",
      "accuracy score: 0.9765807962529274\n"
     ]
    }
   ],
   "source": [
    "# Import Random Forest from sklearn\n",
    "from sklearn.ensemble import RandomForestClassifier\n",
    "\n",
    "\n",
    "# Create Random forest Classifier\n",
    "rnd = RandomForestClassifier(n_estimators=1000,n_jobs=-1,random_state=42)\n",
    "\n",
    "# Fit model on train data\n",
    "rnd.fit(X_train_s, y_train)\n",
    "\n",
    "# Make prediction on test data\n",
    "rnd_pred = rnd.predict(X_test_s)\n",
    "\n",
    "# Calculate and print the confusion_matrix\n",
    "print(\"confusion matrix:\",confusion_matrix(y_test, rnd_pred))\n",
    "\n",
    "# Calculate and print the accuracy score\n",
    "print(\"accuracy score train:\", accuracy_score(y_train,rnd.predict(X_train_s)))\n",
    "\n",
    "# Calculate and print the accuracy score\n",
    "print(\"accuracy score:\", accuracy_score(y_test, rnd_pred))\n",
    "\n"
   ]
  },
  {
   "cell_type": "markdown",
   "id": "ce24417b-8da1-4bc1-962e-68ab089ed17e",
   "metadata": {},
   "source": [
    "#### <B> G) Gradient boost ( With feature scaling test size 0.1)"
   ]
  },
  {
   "cell_type": "code",
   "execution_count": 124,
   "id": "534bdbf0-0ac4-42fd-84e8-967874c9bfb7",
   "metadata": {},
   "outputs": [
    {
     "name": "stdout",
     "output_type": "stream",
     "text": [
      "confusion matrix: [[261   3]\n",
      " [  5 158]]\n",
      "accuracy score train: 0.9997397188964081\n",
      "accuracy score: 0.9812646370023419\n"
     ]
    }
   ],
   "source": [
    "# Import gradient boost from sklearn\n",
    "from sklearn.ensemble import GradientBoostingClassifier\n",
    "\n",
    "# Create gradient boost classifier with hyperparameters\n",
    "gbc = GradientBoostingClassifier(n_estimators=1000,random_state=42,learning_rate=0.02)\n",
    "\n",
    "# Fit model on train data\n",
    "gbc.fit(X_train_s, y_train)\n",
    "\n",
    "# Make prediction on test data\n",
    "gbc_pred = gbc.predict(X_test_s)\n",
    "\n",
    "# Calculate and print the confusion_matrix\n",
    "print(\"confusion matrix:\",confusion_matrix(y_test, gbc_pred))\n",
    "\n",
    "# Calculate and print the accuracy score\n",
    "print(\"accuracy score train:\", accuracy_score(y_train,gbc.predict(X_train_s)))\n",
    "\n",
    "# Calculate and print the accuracy score\n",
    "print(\"accuracy score:\", accuracy_score(y_test, gbc_pred))\n",
    "\n"
   ]
  },
  {
   "cell_type": "markdown",
   "id": "a408ab65-aac6-4c87-a588-f2f9971200ee",
   "metadata": {},
   "source": [
    "#### <B> H) Ada boost ( With feature scaling test size 0.1)"
   ]
  },
  {
   "cell_type": "code",
   "execution_count": 126,
   "id": "d0d5ca6c-6a17-4603-81e6-3ac3d18cb58f",
   "metadata": {},
   "outputs": [
    {
     "name": "stdout",
     "output_type": "stream",
     "text": [
      "confusion matrix: [[242  22]\n",
      " [  1 162]]\n",
      "accuracy score train: 0.954711087975013\n",
      "accuracy score: 0.9461358313817331\n"
     ]
    }
   ],
   "source": [
    "# Import Ada boost from sklearn\n",
    "from sklearn.ensemble import AdaBoostClassifier\n",
    "\n",
    "# Create Ada boost Classifier with random forest\n",
    "abc = AdaBoostClassifier(learning_rate=0.02,n_estimators = 1000,random_state=42,algorithm='SAMME')\n",
    "\n",
    "# Fit model on train data\n",
    "abc.fit(X_train_s, y_train)\n",
    "\n",
    "# Make prediction on test data\n",
    "abc_pred = abc.predict(X_test_s)\n",
    "\n",
    "# Calculate and print the confusion_matrix\n",
    "print(\"confusion matrix:\",confusion_matrix(y_test, abc_pred))\n",
    "\n",
    "# Calculate and print the accuracy score\n",
    "print(\"accuracy score train:\", accuracy_score(y_train,abc.predict(X_train_s)))\n",
    "\n",
    "# Calculate and print the accuracy score\n",
    "print(\"accuracy score:\", accuracy_score(y_test, abc_pred))\n",
    "\n"
   ]
  },
  {
   "cell_type": "markdown",
   "id": "28b9ecbd-f5cc-4780-8ca0-e998531ba980",
   "metadata": {},
   "source": [
    "#### <B> H) XG boost ( With feature scaling test size 0.2)"
   ]
  },
  {
   "cell_type": "code",
   "execution_count": 128,
   "id": "22b2b63d-4502-4687-9db7-31d5d856b6fe",
   "metadata": {},
   "outputs": [
    {
     "name": "stdout",
     "output_type": "stream",
     "text": [
      "confusion matrix: [[261   3]\n",
      " [  6 157]]\n",
      "accuracy score train: 0.9973971889640812\n",
      "accuracy score: 0.9789227166276346\n"
     ]
    }
   ],
   "source": [
    "# Import XG boost from sklearn\n",
    "import xgboost as xgb\n",
    "\n",
    "# Create xg boost classifier\n",
    "xgb_clf = xgb.XGBClassifier(n_estimators=1000,learning_rate=0.02,random_state=42,max_depth=3)\n",
    "\n",
    "# Fit model on train data\n",
    "xgb_clf.fit(X_train_s, y_train)\n",
    "\n",
    "# Make prediction on test data\n",
    "xgb_pred = xgb_clf.predict(X_test_s)\n",
    "\n",
    "# Calculate and print the confusion_matrix\n",
    "print(\"confusion matrix:\",confusion_matrix(y_test, xgb_pred))\n",
    "\n",
    "# Calculate and print the accuracy score\n",
    "print(\"accuracy score train:\", accuracy_score(y_train,xgb_clf.predict(X_train_s)))\n",
    "\n",
    "# Calculate and print the accuracy score\n",
    "print(\"accuracy score:\", accuracy_score(y_test, xgb_pred))\n",
    "\n",
    "\n"
   ]
  },
  {
   "cell_type": "markdown",
   "id": "bf8115bc-be39-4d79-b69e-61dc518dd4fd",
   "metadata": {},
   "source": [
    "### <B> 4. Model comparison"
   ]
  },
  {
   "cell_type": "markdown",
   "id": "098cd2b9-07a5-4ef2-8ddd-d7f580901ec8",
   "metadata": {},
   "source": [
    "To compare the performance of different machine learning classification models, We will focus on accuracy score of each model. We will see how much accurate out model is then we will choose best one from all 9 avialable models.\n",
    "\n",
    "<B> Summary in two cases </B>\n",
    "\n",
    "**Case 1 (Test size = 0.2 with sandard scaling):**\n",
    "- <B>Logistic Regression:</B>\n",
    "   -  accuracy score train = 0.9194729136163983\n",
    "   -  accuracy score test = 0.9074941451990632\n",
    "- <B> Linear discriminant analysis </B>\n",
    "  -  accuracy score train = 0.9297218155197657\n",
    "   -  accuracy score test = 0.9156908665105387\n",
    "- <B>K-nearest neighbour:</B>\n",
    "   -  accuracy score train =  0.9428989751098097\n",
    "   -  accuracy score test = 0.8793911007025761\n",
    "- <B>Decision Tree:</B>\n",
    "   -  accuracy score train =  0.9803806734992679\n",
    "   -  accuracy score test = 0.968384074941452\n",
    "- <B>Random Forest: </B>\n",
    "   -  accuracy score train =  1.0\n",
    "   -  accuracy score test =  0.9765807962529274\n",
    "- <B>Bagging : </B> </B>\n",
    "   -  accuracy score train = 1.0\n",
    "   -  accuracy score test = 0.9812646370023419\n",
    "- <B>Gradient boost : </B>\n",
    "   -  accuracy score train = 1.0\n",
    "   -  accuracy score test = 0.9812646370023419\n",
    "- <B>Adaboost : </B>\n",
    "   -  accuracy score train = 0.9531478770131772\n",
    "   -  accuracy score test = 0.9566744730679156\n",
    "- <B>XG Boost: </B>\n",
    "    - accuracy score train =  0.9979502196193265\n",
    "   - accuracy score test = 0.9742388758782201\n",
    "\n",
    "\n",
    "\n",
    "\n",
    "**Case 2 (Test size = 0.1 with standard scaling**\n",
    "\n",
    "- <B>Logistic Regression:</B>\n",
    "   -  accuracy score train =  0.9203539823008849\n",
    "   -  accuracy score test = 0.9156908665105387\n",
    "- <B> Linear discriminant analysis </B>\n",
    "  -  accuracy score train = 0.9299843831337845\n",
    "   -  accuracy score test = 0.9203747072599532\n",
    "- <B>K-nearest neighbour:</B>\n",
    "   -  accuracy score train = 0.9448204060385216\n",
    "   -  accuracy score test = 0.8735362997658079\n",
    "- <B>Decision Tree:</B>\n",
    "   -  accuracy score train =  0.976314419573139\n",
    "   -  accuracy score test = 0.9672131147540983\n",
    "- <B>Random Forest: </B>\n",
    "   -  accuracy score train = 1.0\n",
    "   -  accuracy score test = 0.9765807962529274\n",
    "- <B>Bagging : </B> </B>\n",
    "   -  accuracy score train = 1.0\n",
    "   -  accuracy score test = 0.9812646370023419\n",
    "- <B>Gradient boost : </B>\n",
    "   -  accuracy score train = 0.9997397188964081\n",
    "   -  accuracy score test = 0.9812646370023419\n",
    "- <B>Adaboost : </B>\n",
    "   -  accuracy score train = 0.954711087975013\n",
    "   -  accuracy score test = 0.9461358313817331\n",
    "- <B>XG Boost: </B>\n",
    "    - accuracy score train = 0.9973971889640812\n",
    "   - accuracy score test = 0.9789227166276346\n",
    "\n",
    "\n",
    "\n",
    "\n",
    "  \n",
    "**Summary:**\n",
    "- Among the different models, bagging is performing best in both cases of test accuracy . the gap between the train and test accuracy is also not huge so overfitting is also not there.\n",
    "- K-nearest neighbour gives lowest accuracy scores it also has overfitting because some gap between train test accuracy is noted.\n",
    "- we can say that our gradient boost and random forest is also good.\n",
    "  \n",
    "Overall, if we consider accuracy score as the primary metric for model performance, bagging is the top performer, followed by  random forest , gradient boost . It's essential to consider other factors like overfitting so we checked overfitting also.l."
   ]
  },
  {
   "cell_type": "markdown",
   "id": "a7bcbd23-c932-485e-abee-2954bbcc6428",
   "metadata": {},
   "source": [
    "### <B> 5. Future improvement"
   ]
  },
  {
   "cell_type": "markdown",
   "id": "f81babc9-2725-4de3-9ae8-77f561d7919a",
   "metadata": {},
   "source": [
    "#### Steps to increase model performance\n",
    "- **Increase the Number of Trees (Estimators):**\n",
    "    Random Forest's performance often benefits from increasing the number of decision trees (estimators) in the ensemble.\n",
    "- **Tune Hyperparameters:** Perform a more thorough hyperparameter tuning by experimenting with different values for parameters like max_depth, min_samples_split, min_samples_leaf, and max_features. Grid Search or Randomized Search can help find the optimal combination of hyperparameters.\n",
    "- **Feature Selection:** Consider removing or reducing the importance of less informative features to improve the model's efficiency and potentially its performance.\n",
    "- **Model implementation** as we get gadient boost as best model for loan prediction dataset so we can implement for unseen data in future."
   ]
  },
  {
   "cell_type": "markdown",
   "id": "b09cb4c0-3d01-4c8c-85d7-cbe8dcf3428d",
   "metadata": {},
   "source": [
    "<b>Comparison chart for all the models"
   ]
  },
  {
   "cell_type": "code",
   "execution_count": 134,
   "id": "940b2466-192a-466d-9832-884458e91a46",
   "metadata": {},
   "outputs": [
    {
     "data": {
      "image/png": "[encoded data removed]",
      "text/plain": [
       "<Figure size 1000x600 with 1 Axes>"
      ]
     },
     "metadata": {},
     "output_type": "display_data"
    }
   ],
   "source": [
    "import matplotlib.pyplot as plt\n",
    "import numpy as np\n",
    "\n",
    "# Model names\n",
    "models = ['Logistic Regression', 'LDA', 'KNN', 'Decision Tree', 'Random Forest', \n",
    "          'Bagging', 'Gradient Boost', 'Adaboost', 'XGBoost']\n",
    "\n",
    "# Train and Test Accuracy Scores\n",
    "train_scores = [0.9194729136163983, 0.9297218155197657, 0.9428989751098097, 0.9803806734992679, \n",
    "                1.0, 1.0, 1.0, 0.9531478770131772, 0.9979502196193265]\n",
    "\n",
    "test_scores = [0.9074941451990632, 0.9156908665105387, 0.8793911007025761, 0.968384074941452, \n",
    "               0.9765807962529274, 0.9812646370023419, 0.9812646370023419, 0.9566744730679156, \n",
    "               0.9742388758782201]\n",
    "\n",
    "# Bar width and positions\n",
    "bar_width = 0.35\n",
    "index = np.arange(len(models))\n",
    "\n",
    "# Plotting\n",
    "fig, ax = plt.subplots(figsize=(10, 6))\n",
    "train_bars = ax.bar(index, train_scores, bar_width, label='Train Accuracy', color='blue')\n",
    "test_bars = ax.bar(index + bar_width, test_scores, bar_width, label='Test Accuracy', color='green')\n",
    "\n",
    "# Labels and Titles\n",
    "ax.set_xlabel('Models')\n",
    "ax.set_ylabel('Accuracy')\n",
    "ax.set_title('Train vs Test Accuracy of Models')\n",
    "ax.set_xticks(index + bar_width / 2)\n",
    "ax.set_xticklabels(models, rotation=45, ha='right')\n",
    "ax.legend()\n",
    "\n",
    "plt.tight_layout()\n",
    "plt.show()\n"
   ]
  },
  {
   "cell_type": "markdown",
   "id": "d315146f-4eea-484f-ad07-ed44518f0b96",
   "metadata": {},
   "source": [
    "<span style=\"color: orange;\"> summary : from this bar chart we can check which model has overfitting like knn has largest gap in train and test.\n",
    "we can also say that gradient boost and random forest and bagging are one of the best performers . this bar chart is for test size 0.2."
   ]
  },
  {
   "cell_type": "code",
   "execution_count": null,
   "id": "d9276a96-779d-4d60-9f02-e49d1570aaf7",
   "metadata": {},
   "outputs": [],
   "source": []
  }
 ],
 "metadata": {
  "kernelspec": {
   "display_name": "Python 3 (ipykernel)",
   "language": "python",
   "name": "python3"
  },
  "language_info": {
   "codemirror_mode": {
    "name": "ipython",
    "version": 3
   },
   "file_extension": ".py",
   "mimetype": "text/x-python",
   "name": "python",
   "nbconvert_exporter": "python",
   "pygments_lexer": "ipython3",
   "version": "3.12.4"
  }
 },
 "nbformat": 4,
 "nbformat_minor": 5
}
